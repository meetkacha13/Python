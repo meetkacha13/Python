{
 "cells": [
  {
   "cell_type": "markdown",
   "metadata": {
    "id": "SPoD_ceReiT1"
   },
   "source": [
    "<a href='https://www.darshan.ac.in/'> <img src='https://www.darshan.ac.in/Content/media/DU_Logo.svg' width=\"250\" height=\"300\"/></a>\n",
    "<pre>\n",
    "<center><b><h1>Python Programming - 2101CS405</b></center>\n",
    "<center><b><h1>Lab - 7</b></center>    \n",
    "<pre>"
   ]
  },
  {
   "cell_type": "markdown",
   "metadata": {},
   "source": [
    "#### Name : Meet Kacha\n",
    "#### Enrollment No : 23010101624\n",
    "#### Date : 20-02-2024"
   ]
  },
  {
   "cell_type": "markdown",
   "metadata": {
    "id": "UqpqbpZEeiT4"
   },
   "source": [
    "# Functions"
   ]
  },
  {
   "cell_type": "code",
   "execution_count": null,
   "metadata": {},
   "outputs": [],
   "source": [
    "# will throw an error\n",
    "## UnboundLocalError: local variable 'a' referenced before assignment\n",
    "a = 15\n",
    "def change():\n",
    "    a = a + 5\n",
    "    print(a) \n",
    "change()"
   ]
  },
  {
   "cell_type": "code",
   "execution_count": 4,
   "metadata": {},
   "outputs": [
    {
     "name": "stdout",
     "output_type": "stream",
     "text": [
      "20\n"
     ]
    }
   ],
   "source": [
    "# when to use global\n",
    "a = 15\n",
    "def change():\n",
    "    global a\n",
    "    a = a + 5\n",
    "    print(a) \n",
    "change()"
   ]
  },
  {
   "cell_type": "markdown",
   "metadata": {
    "id": "q3sib5cSeiT5"
   },
   "source": [
    "### 01) WAP to count simple interest using function."
   ]
  },
  {
   "cell_type": "markdown",
   "metadata": {
    "id": "_xUNh9ppem9g"
   },
   "source": [
    "# SI =( principle(amount) * rate of interest * time )/ 100"
   ]
  },
  {
   "cell_type": "code",
   "execution_count": 2,
   "metadata": {
    "colab": {
     "base_uri": "https://localhost:8080/"
    },
    "executionInfo": {
     "elapsed": 13031,
     "status": "ok",
     "timestamp": 1706267778231,
     "user": {
      "displayName": "Tej Patel",
      "userId": "04032777318747107215"
     },
     "user_tz": -330
    },
    "id": "W9GVhnjIeiT5",
    "outputId": "3e96c306-2add-47a8-b96e-657d73467886"
   },
   "outputs": [
    {
     "name": "stdout",
     "output_type": "stream",
     "text": [
      "The principal is 50000\n",
      "The time period is 2\n",
      "The rate of interest is 3\n",
      "The Simple Interest is 3000.0\n"
     ]
    }
   ],
   "source": [
    "def simple_interest(p,t,r):\n",
    "\tprint('The principal is', p)\n",
    "\tprint('The time period is', t)\n",
    "\tprint('The rate of interest is',r)\n",
    "\t\n",
    "\tsi = (p * t * r)/100\n",
    "\t\n",
    "\tprint('The Simple Interest is', si)\n",
    "\n",
    "pa=int(input(\"Enter Principle : \"))\n",
    "time=int(input(\"Enter Time : \"))\n",
    "rate=int(input(\"Enter Rate : \"))\n",
    "\n",
    "simple_interest(pa, rate, time)\n"
   ]
  },
  {
   "cell_type": "markdown",
   "metadata": {
    "id": "tE0vZRZdeiT6"
   },
   "source": [
    "### 02) WAP that defines a function to add first n numbers."
   ]
  },
  {
   "cell_type": "code",
   "execution_count": 1,
   "metadata": {
    "colab": {
     "base_uri": "https://localhost:8080/"
    },
    "executionInfo": {
     "elapsed": 2459,
     "status": "ok",
     "timestamp": 1706268095305,
     "user": {
      "displayName": "Tej Patel",
      "userId": "04032777318747107215"
     },
     "user_tz": -330
    },
    "id": "Vsrn_objeiT6",
    "outputId": "921291b9-afab-4c58-a622-5895c1cdb7ff"
   },
   "outputs": [
    {
     "name": "stdout",
     "output_type": "stream",
     "text": [
      "Sum of Number is :  15\n"
     ]
    }
   ],
   "source": [
    "def SumNNum(num):\n",
    "   if num < 0:\n",
    "      print(\"Enter a positive number\")\n",
    "   else:\n",
    "      sum = 0\n",
    "      while(num > 0):\n",
    "         sum += num\n",
    "         num -= 1\n",
    "      print(\"Sum of Number is : \", sum)\n",
    "\n",
    "num=int(input(\"Enter Number : \"))\n",
    "\n",
    "SumNNum(num)\n"
   ]
  },
  {
   "cell_type": "markdown",
   "metadata": {
    "id": "CS0YQzxyeiT6"
   },
   "source": [
    "### 03) WAP to find maximum number from given two numbers using function."
   ]
  },
  {
   "cell_type": "code",
   "execution_count": 5,
   "metadata": {
    "executionInfo": {
     "elapsed": 448,
     "status": "ok",
     "timestamp": 1706268076097,
     "user": {
      "displayName": "Tej Patel",
      "userId": "04032777318747107215"
     },
     "user_tz": -330
    },
    "id": "zlo56PLZeiT6"
   },
   "outputs": [
    {
     "name": "stdout",
     "output_type": "stream",
     "text": [
      "Maximum Number is: 50\n"
     ]
    }
   ],
   "source": [
    "def maximum(a, b):\n",
    "\t\n",
    "\tif a >= b:\n",
    "\t\treturn a\n",
    "\telse:\n",
    "\t\treturn b\n",
    "\n",
    "a = int(input(\"Enter Number A : \"))\n",
    "b = int(input(\"Enter Number B : \"))\n",
    "print(\"Maximum Number is:\",maximum(a, b))\n"
   ]
  },
  {
   "cell_type": "markdown",
   "metadata": {
    "id": "7AaoGClieiT7"
   },
   "source": [
    "### 04) WAP that defines a function which returns 1 if the number is prime otherwise return 0."
   ]
  },
  {
   "cell_type": "code",
   "execution_count": 2,
   "metadata": {
    "colab": {
     "base_uri": "https://localhost:8080/"
    },
    "executionInfo": {
     "elapsed": 1388,
     "status": "ok",
     "timestamp": 1706269570666,
     "user": {
      "displayName": "Tej Patel",
      "userId": "04032777318747107215"
     },
     "user_tz": -330
    },
    "id": "dbUnipZieiT7",
    "outputId": "49ebc139-27c4-413c-9645-beaa283ff670"
   },
   "outputs": [
    {
     "data": {
      "text/plain": [
       "1"
      ]
     },
     "execution_count": 2,
     "metadata": {},
     "output_type": "execute_result"
    }
   ],
   "source": [
    "def primeNumber(n):\n",
    "  for i in range(2,int(n**0.5)+1):\n",
    "    if(n%i==0):\n",
    "      return 0\n",
    "  else:\n",
    "    return 1\n",
    "n=int(input(\"Enter a number : \"))\n",
    "primeNumber(n)"
   ]
  },
  {
   "cell_type": "markdown",
   "metadata": {},
   "source": [
    "<h2> optional task : optimization</h2>\n",
    "complete basic task first then try to optimize"
   ]
  },
  {
   "cell_type": "code",
   "execution_count": 1,
   "metadata": {},
   "outputs": [
    {
     "name": "stdout",
     "output_type": "stream",
     "text": [
      "        * \n",
      "      * * \n",
      "    * * * \n",
      "  * * * * \n",
      "* * * * * \n",
      "Total Iterations :  30\n"
     ]
    }
   ],
   "source": [
    "# Example on how iterations are calculated\n",
    "# Only iteration in loops are counted\n",
    "iteration_count= 0\n",
    "n = 5\n",
    "for i in range(n):\n",
    "    iteration_count += 1\n",
    "    \n",
    "    for j in range(n-i-1):\n",
    "        iteration_count += 1\n",
    "        print(\" \", end = \" \")\n",
    "    for j in range(i+1):\n",
    "        iteration_count += 1\n",
    "        print(\"*\", end = \" \")\n",
    "    print()\n",
    "print(\"Total Iterations : \", iteration_count)"
   ]
  },
  {
   "cell_type": "markdown",
   "metadata": {
    "id": "oPj8eEN7eiT7"
   },
   "source": [
    "### 05) Write a function called primes that takes an integer value as an argument and returns a list of all prime numbers up to that number."
   ]
  },
  {
   "cell_type": "code",
   "execution_count": 13,
   "metadata": {
    "colab": {
     "base_uri": "https://localhost:8080/"
    },
    "executionInfo": {
     "elapsed": 3432,
     "status": "ok",
     "timestamp": 1706272524988,
     "user": {
      "displayName": "Tej Patel",
      "userId": "04032777318747107215"
     },
     "user_tz": -330
    },
    "id": "iehHfb8kr84x",
    "outputId": "04864106-0c36-4118-c1ef-ff7d9e04d23b"
   },
   "outputs": [
    {
     "name": "stdout",
     "output_type": "stream",
     "text": [
      "Prime numbers up to 1000 are: [2, 3, 5, 7, 11, 13, 17, 19, 23, 29, 31, 37, 41, 43, 47, 53, 59, 61, 67, 71, 73, 79, 83, 89, 97, 101, 103, 107, 109, 113, 127, 131, 137, 139, 149, 151, 157, 163, 167, 173, 179, 181, 191, 193, 197, 199, 211, 223, 227, 229, 233, 239, 241, 251, 257, 263, 269, 271, 277, 281, 283, 293, 307, 311, 313, 317, 331, 337, 347, 349, 353, 359, 367, 373, 379, 383, 389, 397, 401, 409, 419, 421, 431, 433, 439, 443, 449, 457, 461, 463, 467, 479, 487, 491, 499, 503, 509, 521, 523, 541, 547, 557, 563, 569, 571, 577, 587, 593, 599, 601, 607, 613, 617, 619, 631, 641, 643, 647, 653, 659, 661, 673, 677, 683, 691, 701, 709, 719, 727, 733, 739, 743, 751, 757, 761, 769, 773, 787, 797, 809, 811, 821, 823, 827, 829, 839, 853, 857, 859, 863, 877, 881, 883, 887, 907, 911, 919, 929, 937, 941, 947, 953, 967, 971, 977, 983, 991, 997]\n"
     ]
    }
   ],
   "source": [
    "def is_prime(n):\n",
    "    if n <= 1:\n",
    "        return False \n",
    "    if n <= 3:\n",
    "        return True \n",
    "    if n % 2 == 0 or n % 3 == 0:\n",
    "        return False  \n",
    "    i = 5\n",
    "    while i * i <= n:\n",
    "        if n % i == 0 or n % (i + 2) == 0:\n",
    "            return False\n",
    "        i += 6\n",
    "    return True\n",
    "\n",
    "def primes(n):\n",
    "    prime_list = []\n",
    "    for i in range(2, n + 1):\n",
    "        if is_prime(i):\n",
    "            prime_list.append(i)\n",
    "    return prime_list\n",
    "\n",
    "num = int(input(\"Enter a number: \"))\n",
    "prime_numbers = primes(num)\n",
    "print(\"Prime numbers up to\", num, \"are:\", prime_numbers)"
   ]
  },
  {
   "cell_type": "markdown",
   "metadata": {},
   "source": [
    "<h2> optional task : optimization</h2>\n",
    "if basic task completed then try to optimize"
   ]
  },
  {
   "cell_type": "markdown",
   "metadata": {
    "id": "VNUFmkgDeiT8"
   },
   "source": [
    "### 06) WAP to generate Fibonacci series of N given number using function name fibbo. (e.g. 0 1 1 2 3 5 8...)"
   ]
  },
  {
   "cell_type": "markdown",
   "metadata": {
    "id": "dycp5zkoob33"
   },
   "source": [
    "<img src=\"https://www.freecodecamp.org/news/content/images/size/w1000/2022/06/calculate-the-Fibonacci-number-we-have-basic-2-approaches.png\" height=\"600px\" width=\"600px\">"
   ]
  },
  {
   "cell_type": "code",
   "execution_count": 5,
   "metadata": {
    "colab": {
     "base_uri": "https://localhost:8080/"
    },
    "executionInfo": {
     "elapsed": 3062,
     "status": "ok",
     "timestamp": 1706269953723,
     "user": {
      "displayName": "Tej Patel",
      "userId": "04032777318747107215"
     },
     "user_tz": -330
    },
    "id": "MkhS3eE_eiT8",
    "outputId": "9e69cc26-225d-40ca-aab0-b3201e6f8a93"
   },
   "outputs": [
    {
     "data": {
      "text/plain": [
       "[0, 1, 1, 2, 3, 5, 8, 13, 21, 34]"
      ]
     },
     "execution_count": 5,
     "metadata": {},
     "output_type": "execute_result"
    }
   ],
   "source": [
    "def fibbo(n):\n",
    "  list_fibonacci=[i for i in range(n)]\n",
    "  for i in range(2,n):\n",
    "    list_fibonacci[i]=list_fibonacci[i-1]+list_fibonacci[i-2]\n",
    "  return list_fibonacci\n",
    "number=int(input(\"Enter a number : \"))\n",
    "fibbo(number)"
   ]
  },
  {
   "cell_type": "markdown",
   "metadata": {
    "id": "tNM173u-eiT8"
   },
   "source": [
    "### 07) WAP to find the factorial of a given number using recursion."
   ]
  },
  {
   "cell_type": "code",
   "execution_count": 15,
   "metadata": {
    "executionInfo": {
     "elapsed": 509,
     "status": "ok",
     "timestamp": 1706274925498,
     "user": {
      "displayName": "Tej Patel",
      "userId": "04032777318747107215"
     },
     "user_tz": -330
    },
    "id": "NA7X_-HTeiT8"
   },
   "outputs": [
    {
     "name": "stdout",
     "output_type": "stream",
     "text": [
      "Factorial of 5 is: 120\n"
     ]
    }
   ],
   "source": [
    "def factorial(n):\n",
    "    if n == 0:\n",
    "        return 1\n",
    "    else:\n",
    "        return n * factorial(n-1)\n",
    "number = int(input(\"Enter a number to find its factorial: \"))\n",
    "result = factorial(number)\n",
    "print(\"Factorial of\", number, \"is:\", result)"
   ]
  },
  {
   "cell_type": "markdown",
   "metadata": {
    "id": "Hvo07_GIeiT8"
   },
   "source": [
    "### 08) WAP to implement simple calculator using lamda function."
   ]
  },
  {
   "cell_type": "code",
   "execution_count": 6,
   "metadata": {
    "id": "7bGhIdZyeiT9"
   },
   "outputs": [
    {
     "name": "stdout",
     "output_type": "stream",
     "text": [
      "5 + 5 : 10\n",
      "5 - 5 : 0\n",
      "5 * 5 : 25\n",
      "5 / 5 : 1.0\n"
     ]
    }
   ],
   "source": [
    "num1=int(input(\"Enter a number1 : \"))\n",
    "num2=int(input(\"Enter a number2 : \"))\n",
    "calc=lambda a,b,op:a+b if op=='+' else a-b if op=='-' else a*b if op=='*' else round(a/b,2)\n",
    "print(f'{num1} + {num2} : {calc(num1,num2,\"+\")}')\n",
    "print(f'{num1} - {num2} : {calc(num1,num2,\"-\")}')\n",
    "print(f'{num1} * {num2} : {calc(num1,num2,\"*\")}')\n",
    "print(f'{num1} / {num2} : {calc(num1,num2,\"/\")}')"
   ]
  },
  {
   "cell_type": "markdown",
   "metadata": {
    "id": "uDWxOJP0eiT9"
   },
   "source": [
    "### 09)Write a Python program that accepts a hyphen-separated sequence of words as input and prints the words in a hyphen-separated sequence after sorting them alphabetically\n",
    "Sample Items : green-red-yellow-black-white <br>\n",
    "Expected Result : black-green-red-white-yellow"
   ]
  },
  {
   "cell_type": "code",
   "execution_count": 17,
   "metadata": {
    "id": "53ECGGEDeiT9"
   },
   "outputs": [
    {
     "name": "stdout",
     "output_type": "stream",
     "text": [
      "entered hyphen-separated sequence :  green-red-yellow-black-white\n",
      "Sorted hyphen-separated sequence :  black-green-red-white-yellow\n"
     ]
    }
   ],
   "source": [
    "sequence = input(\"Enter hyphen-separated sequence of words: \")\n",
    "words = sequence.split('-')\n",
    "sorted_words = sorted(words)\n",
    "sorted_sequence = '-'.join(sorted_words)\n",
    "print(\"entered hyphen-separated sequence : \", sequence)\n",
    "print(\"Sorted hyphen-separated sequence : \", sorted_sequence)"
   ]
  },
  {
   "cell_type": "markdown",
   "metadata": {
    "id": "aw3g6zMReiT9"
   },
   "source": [
    "### 10) Write a python program to implement all function arguments type\n",
    "Positional arguments <Br>\n",
    "Default argument <Br>\n",
    "Keyword arguments (named arguments) <Br>\n",
    "Arbitrary arguments (variable-length arguments args and kwargs)"
   ]
  },
  {
   "cell_type": "code",
   "execution_count": 1,
   "metadata": {
    "id": "vWQLyY3feiT9"
   },
   "outputs": [
    {
     "name": "stdout",
     "output_type": "stream",
     "text": [
      "Case-1:\n",
      "Hi, I am Meet\n",
      "My age is  20\n",
      "\n",
      "Case-2:\n",
      "Hi, I am 20\n",
      "My age is  Meet\n"
     ]
    }
   ],
   "source": [
    "def nameAge(name, age):\n",
    "\tprint(\"Hi, I am\", name)\n",
    "\tprint(\"My age is \", age)\n",
    "\n",
    "print(\"Case-1:\")\n",
    "nameAge(\"Meet\", 20)\n",
    "\n",
    "print(\"\\nCase-2:\")\n",
    "nameAge(20, \"Meet\")"
   ]
  },
  {
   "cell_type": "code",
   "execution_count": 2,
   "metadata": {
    "executionInfo": {
     "elapsed": 616,
     "status": "ok",
     "timestamp": 1706275233845,
     "user": {
      "displayName": "Tej Patel",
      "userId": "04032777318747107215"
     },
     "user_tz": -330
    },
    "id": "SHrIzUAgeiT-"
   },
   "outputs": [
    {
     "name": "stdout",
     "output_type": "stream",
     "text": [
      "10\n",
      "5\n"
     ]
    }
   ],
   "source": [
    "# Default argument\n",
    "def defaultArgument (a,b=10) :\n",
    "    return a-b\n",
    "\n",
    "print(defaultArgument(20))\n",
    "print(defaultArgument(20,15))"
   ]
  },
  {
   "cell_type": "code",
   "execution_count": 3,
   "metadata": {
    "id": "V25yOCnE6pFK"
   },
   "outputs": [
    {
     "name": "stdout",
     "output_type": "stream",
     "text": [
      "country is : India\n"
     ]
    }
   ],
   "source": [
    "# Keyword argument\n",
    "def my_function(country, state, city):\n",
    "  print(\"country is : \" + country)\n",
    "\n",
    "my_function(city = \"Rajkot\", state = \"Gujarat\", country = \"India\")"
   ]
  },
  {
   "cell_type": "code",
   "execution_count": 4,
   "metadata": {
    "id": "eV_se_cy6pPy"
   },
   "outputs": [
    {
     "name": "stdout",
     "output_type": "stream",
     "text": [
      "The youngest child is Swapnil\n"
     ]
    }
   ],
   "source": [
    "# Arbitrary arguments awrgs\n",
    "def arbitraryArguments(*b):\n",
    "    print(\"The youngest child is \" + b[2])\n",
    "\n",
    "arbitraryArguments(\"Radha\", \"Krishna\", \"Swapnil\")"
   ]
  },
  {
   "cell_type": "code",
   "execution_count": 5,
   "metadata": {
    "id": "vlyhFzmo7Dxw"
   },
   "outputs": [
    {
     "name": "stdout",
     "output_type": "stream",
     "text": [
      "His last name is Ajmera\n"
     ]
    }
   ],
   "source": [
    "# Arbitrary arguments kwargs\n",
    "def arbitraryArguments(**b):\n",
    "    print(\"His last name is \" + b[\"lname\"])\n",
    "\n",
    "arbitraryArguments(fname = \"Swapnil\", lname = \"Ajmera\")"
   ]
  },
  {
   "cell_type": "markdown",
   "metadata": {
    "id": "wCmmY35leiT-"
   },
   "source": [
    "### 01) WAP to calculate power of a number using recursion."
   ]
  },
  {
   "cell_type": "code",
   "execution_count": 8,
   "metadata": {
    "id": "mMqjz6pieiT-"
   },
   "outputs": [
    {
     "name": "stdout",
     "output_type": "stream",
     "text": [
      "2^4 : 16\n"
     ]
    }
   ],
   "source": [
    "power=lambda x,y:1 if y==0 else x*power(x,y-1)\n",
    "exponent=int(input(\"Enter a exponent : \"))\n",
    "pow=int(input(\"Enter a power : \"))\n",
    "print(f\"{exponent}^{pow} : {power(exponent,pow)}\")"
   ]
  },
  {
   "cell_type": "markdown",
   "metadata": {
    "id": "BFPNH7RjeiT-"
   },
   "source": [
    "### 02) WAP to count digits of a number using recursion."
   ]
  },
  {
   "cell_type": "code",
   "execution_count": 10,
   "metadata": {
    "id": "9fcXXE2DeiT-"
   },
   "outputs": [
    {
     "name": "stdout",
     "output_type": "stream",
     "text": [
      "sum of digits of 100 : 1\n"
     ]
    }
   ],
   "source": [
    "digitSum=lambda n: 0 if n==0 else (n%10)+digitSum(n//10)\n",
    "num1=int(input(\"Enter a number : \"))\n",
    "print(f\"sum of digits of {num1} : {digitSum(num1)}\")"
   ]
  },
  {
   "cell_type": "markdown",
   "metadata": {
    "id": "5NAJC3WCeiT-"
   },
   "source": [
    "### 03) WAP to reverse an integer number using recursion."
   ]
  },
  {
   "cell_type": "code",
   "execution_count": 11,
   "metadata": {
    "id": "ahqG8K85eiT_"
   },
   "outputs": [
    {
     "name": "stdout",
     "output_type": "stream",
     "text": [
      "52\n"
     ]
    }
   ],
   "source": [
    "digit=lambda n,r: r if n==0 else digit(n//10,(r*10)+(n%10))\n",
    "num=int(input(\"ENter a number : \"))\n",
    "res=0\n",
    "print(digit(num,res))"
   ]
  },
  {
   "cell_type": "markdown",
   "metadata": {
    "id": "aWmK4lQaeiT_"
   },
   "source": [
    "### 04) WAP to convert decimal number into binary using recursion."
   ]
  },
  {
   "cell_type": "markdown",
   "metadata": {
    "id": "ye8jKivs8w-4"
   },
   "source": [
    "<img src=\"https://runestone.academy/ns/books/published/pythonds/_images/dectobin.png\">\n",
    "<img src=\"https://www.tutorialstonight.com/assets/decimal-to-binary-conversion.png\">"
   ]
  },
  {
   "cell_type": "code",
   "execution_count": 12,
   "metadata": {
    "colab": {
     "base_uri": "https://localhost:8080/"
    },
    "executionInfo": {
     "elapsed": 4822,
     "status": "ok",
     "timestamp": 1706275413347,
     "user": {
      "displayName": "Tej Patel",
      "userId": "04032777318747107215"
     },
     "user_tz": -330
    },
    "id": "5OatPXd5eiT_",
    "outputId": "98822d2b-7836-4cb4-9f98-4ad5eabed1e3"
   },
   "outputs": [
    {
     "name": "stdout",
     "output_type": "stream",
     "text": [
      "Binary :  11110\n"
     ]
    }
   ],
   "source": [
    "def decimalToBinary(n):\n",
    "    if n==0:\n",
    "        return 0\n",
    "    else:\n",
    "        return n%2+10*(decimalToBinary(n//2))\n",
    "\n",
    "n = int(input(\"Enter Number : \"))\n",
    "ans = decimalToBinary(n)\n",
    "print(\"Binary : \",ans)"
   ]
  },
  {
   "cell_type": "markdown",
   "metadata": {},
   "source": [
    "\n",
    "# Map , Filter , Reduce"
   ]
  },
  {
   "cell_type": "markdown",
   "metadata": {},
   "source": [
    "### map() function returns a map object(which is an iterator) of the results after applying the given function to each item of a given iterable (list, tuple etc.)"
   ]
  },
  {
   "cell_type": "code",
   "execution_count": 3,
   "metadata": {},
   "outputs": [
    {
     "name": "stdout",
     "output_type": "stream",
     "text": [
      "[1, 4, 9, 16, 25]\n"
     ]
    }
   ],
   "source": [
    "numbers = [1, 2, 3, 4, 5]\n",
    "\n",
    "squared_numbers = list(map(lambda x: x * x, numbers))\n",
    "\n",
    "print(squared_numbers)"
   ]
  },
  {
   "cell_type": "markdown",
   "metadata": {},
   "source": [
    "### The filter() method filters the given sequence with the help of a function that tests each element in the sequence to be true or not."
   ]
  },
  {
   "cell_type": "code",
   "execution_count": 4,
   "metadata": {},
   "outputs": [
    {
     "name": "stdout",
     "output_type": "stream",
     "text": [
      "[1, 3, 5, 13]\n",
      "[0, 2, 8]\n"
     ]
    }
   ],
   "source": [
    "# a list contains both even and odd numbers. \n",
    "seq = [0, 1, 2, 3, 5, 8, 13]\n",
    " \n",
    "# result contains odd numbers of the list\n",
    "result = filter(lambda x: x % 2 != 0, seq)\n",
    "print(list(result))\n",
    " \n",
    "# result contains even numbers of the list\n",
    "result = filter(lambda x: x % 2 == 0, seq)\n",
    "print(list(result))"
   ]
  },
  {
   "cell_type": "markdown",
   "metadata": {},
   "source": [
    "### The reduce(fun,seq) function is used to apply a particular function passed in its argument to all of the list elements mentioned in the sequence passed along.This function is defined in “functools” module."
   ]
  },
  {
   "cell_type": "code",
   "execution_count": 5,
   "metadata": {},
   "outputs": [
    {
     "name": "stdout",
     "output_type": "stream",
     "text": [
      "The sum of the list elements is : 17\n",
      "The maximum element of the list is : 6\n"
     ]
    }
   ],
   "source": [
    " # importing functools for reduce() \n",
    "import functools \n",
    "\n",
    "# initializing list \n",
    "lis = [1, 3, 5, 6, 2] \n",
    "\n",
    "# using reduce to compute sum of list \n",
    "print(\"The sum of the list elements is : \", end=\"\") \n",
    "print(functools.reduce(lambda a, b: a+b, lis)) \n",
    "\n",
    "# using reduce to compute maximum element from list \n",
    "print(\"The maximum element of the list is : \", end=\"\") \n",
    "print(functools.reduce(lambda a, b: a if a > b else b, lis)) \n"
   ]
  }
 ],
 "metadata": {
  "colab": {
   "provenance": []
  },
  "kernelspec": {
   "display_name": "Python 3 (ipykernel)",
   "language": "python",
   "name": "python3"
  },
  "language_info": {
   "codemirror_mode": {
    "name": "ipython",
    "version": 3
   },
   "file_extension": ".py",
   "mimetype": "text/x-python",
   "name": "python",
   "nbconvert_exporter": "python",
   "pygments_lexer": "ipython3",
   "version": "3.11.5"
  }
 },
 "nbformat": 4,
 "nbformat_minor": 4
}
