{
 "cells": [
  {
   "cell_type": "markdown",
   "metadata": {},
   "source": [
    "<a href='https://www.darshan.ac.in/'> <img src='https://www.darshan.ac.in/Content/media/DU_Logo.svg' width=\"250\" height=\"300\"/></a>\n",
    "<pre>\n",
    "<center><b><h1>Python Programming - 2101CS405</b></center>\n",
    "<center><b><h1>Lab - 6</b></center>    \n",
    "<pre>"
   ]
  },
  {
   "cell_type": "markdown",
   "metadata": {},
   "source": [
    "### kacha meet\n",
    "### 23010101624"
   ]
  },
  {
   "cell_type": "markdown",
   "metadata": {},
   "source": [
    "# Tuples, dictionary, set"
   ]
  },
  {
   "cell_type": "markdown",
   "metadata": {},
   "source": [
    "# A"
   ]
  },
  {
   "cell_type": "markdown",
   "metadata": {},
   "source": [
    "### 01) WAP to sort python dictionary by key or value."
   ]
  },
  {
   "cell_type": "code",
   "execution_count": 2,
   "metadata": {},
   "outputs": [
    {
     "name": "stdout",
     "output_type": "stream",
     "text": [
      "Sorted Dictionary by Keys: {'w': 4, 'x': 3, 'y': 2, 'z': 1}\n"
     ]
    }
   ],
   "source": [
    "my_dict = {'z': 1, 'y': 2, 'x': 3, 'w': 4}\n",
    "sorted_dict_by_keys = {k: my_dict[k] for k in sorted(my_dict.keys())}\n",
    "print(f\"Sorted Dictionary by Keys: {sorted_dict_by_keys}\")"
   ]
  },
  {
   "cell_type": "markdown",
   "metadata": {},
   "source": [
    "### 02) WAP to merge two dictionaries given by user."
   ]
  },
  {
   "cell_type": "code",
   "execution_count": 4,
   "metadata": {},
   "outputs": [
    {
     "name": "stdout",
     "output_type": "stream",
     "text": [
      "Enter values of second dictionary:\n",
      "Merged dictionary: {'1': '2', '2': '2555', '22': '', '51': '5', '': '32'}\n"
     ]
    }
   ],
   "source": [
    "dictionary1 = {}\n",
    "dictionary2 = {}\n",
    "len1 = int(input(\"Enter length of first dictionary: \"))\n",
    "len2 = int(input(\"Enter length of second dictionary: \"))\n",
    "for i in range(len1):\n",
    " key = input(\"Enter key: \")\n",
    " value = input(\"Enter value: \")\n",
    " dictionary1[key] = value\n",
    "print(\"Enter values of second dictionary:\")\n",
    "for i in range(len2):\n",
    " key = input(\"Enter key: \")\n",
    " value = input(\"Enter value: \")\n",
    " dictionary2[key] = value\n",
    "dictionary1.update(dictionary2)\n",
    "print(\"Merged dictionary:\", dictionary1)"
   ]
  },
  {
   "cell_type": "markdown",
   "metadata": {},
   "source": [
    "### 03) WAP to find tuples that have all elements divisible by K from a list of tuples."
   ]
  },
  {
   "cell_type": "code",
   "execution_count": 9,
   "metadata": {},
   "outputs": [
    {
     "name": "stdout",
     "output_type": "stream",
     "text": [
      "[(3, 6, 9, 12, 15, 99, 996)]\n"
     ]
    }
   ],
   "source": [
    "list = [(2, 4, 6, 8, 10), (3, 6, 9, 12, 15, 99, 996), (4, 8, 12, 16, 20), (3,6,7,2,3)]\n",
    "k = int(input(\"Enter value to divide: \"))\n",
    "output = []\n",
    "flag = True\n",
    "for i in list:\n",
    "    for j in i:\n",
    "        flag = True\n",
    "        if j % k != 0:\n",
    "            flag = False\n",
    "            break\n",
    "    if flag:\n",
    "        output.append(i)\n",
    "print(output)"
   ]
  },
  {
   "cell_type": "markdown",
   "metadata": {},
   "source": [
    "### 04) WAP to find Tuples with positive elements in List of tuples."
   ]
  },
  {
   "cell_type": "code",
   "execution_count": 11,
   "metadata": {},
   "outputs": [
    {
     "name": "stdout",
     "output_type": "stream",
     "text": [
      "Tuples with positive elements: [(2, 4, 6, 8, 10)]\n"
     ]
    }
   ],
   "source": [
    "list_of_tuples = [(2, 4, 6, 8, 10), (3, 6, 9, 12, 15, -99, -996)]\n",
    "valid_tuples = []\n",
    "for t in list_of_tuples:\n",
    "    flag = True\n",
    "    for x in t:\n",
    "        if x < 0:\n",
    "            flag = False\n",
    "            break\n",
    "    if flag:\n",
    "        valid_tuples.append(t)\n",
    "print(\"Tuples with positive elements:\", valid_tuples)"
   ]
  },
  {
   "cell_type": "markdown",
   "metadata": {},
   "source": [
    "### 05) WAP which perform union of two sets."
   ]
  },
  {
   "cell_type": "code",
   "execution_count": 12,
   "metadata": {},
   "outputs": [
    {
     "name": "stdout",
     "output_type": "stream",
     "text": [
      "{1, 2, 3, 4, 5, 6, 7, 8, 9}\n",
      "{1, 2, 3, 4, 5, 6, 7, 8, 9}\n"
     ]
    }
   ],
   "source": [
    "set1 = {1,2,3,4,5,};\n",
    "set2 = {1,2,3,4,5,6,7,8,9};\n",
    "print(set1 | set2);\n",
    "print(set1.union(set2));"
   ]
  },
  {
   "cell_type": "markdown",
   "metadata": {},
   "source": [
    "# B"
   ]
  },
  {
   "cell_type": "markdown",
   "metadata": {},
   "source": [
    "### 01) WAP to convert binary tuple into integer."
   ]
  },
  {
   "cell_type": "code",
   "execution_count": 13,
   "metadata": {},
   "outputs": [
    {
     "name": "stdout",
     "output_type": "stream",
     "text": [
      "value of 101 = 5\n",
      "value of 10111 = 23\n",
      "value of 111 = 7\n",
      "value of 11001 = 25\n",
      "value of 1010 = 10\n",
      "value of 1011 = 11\n",
      "value of 1001 = 9\n"
     ]
    }
   ],
   "source": [
    "tuple = (101, 10111, 111, 11001, 1010, 1011, 1001)\n",
    "result = []\n",
    "val = 0\n",
    "for i in range(len(tuple)):\n",
    "    temp = tuple[i]\n",
    "    for j in range(len(str(tuple[i]))):\n",
    "        x = temp % 10\n",
    "        val += x * 2 ** j\n",
    "        temp = temp // 10\n",
    "    print(f\"value of {tuple[i]} = {val}\")\n",
    "    val = 0"
   ]
  },
  {
   "cell_type": "markdown",
   "metadata": {},
   "source": [
    "### 02) WAP to count frequency in list by dictionary."
   ]
  },
  {
   "cell_type": "code",
   "execution_count": 14,
   "metadata": {},
   "outputs": [
    {
     "name": "stdout",
     "output_type": "stream",
     "text": [
      "{1: 2, 2: 2, 3: 1, 4: 2, 67: 1, 6: 1, 11: 1, 45: 1, 23: 1, 56: 1}\n"
     ]
    }
   ],
   "source": [
    "input_list = [1,1,11,2,2,23,3,4,4,45,56,67,6];\n",
    "input_set = set(input_list);\n",
    "output_dict={};\n",
    "for i in input_set:\n",
    " output_dict[i]=input_list.count(i);\n",
    "print(output_dict)"
   ]
  },
  {
   "cell_type": "markdown",
   "metadata": {},
   "source": [
    "### 03) WAP to remove all the duplicate words from the list using dictionary."
   ]
  },
  {
   "cell_type": "code",
   "execution_count": 15,
   "metadata": {},
   "outputs": [
    {
     "name": "stdout",
     "output_type": "stream",
     "text": [
      "['hello', 'hi', 'Swapnil']\n"
     ]
    }
   ],
   "source": [
    "input_list = [\"hello\", \"hi\", \"hello\", \"hi\", \"hi\", \"hi\", \"hello\", \"Swapnil\"]\n",
    "output_list = []\n",
    "for i in input_list:\n",
    " if output_list.count(i) == 0:\n",
    "    output_list.append(i)\n",
    "print(output_list)"
   ]
  }
 ],
 "metadata": {
  "kernelspec": {
   "display_name": "Python 3 (ipykernel)",
   "language": "python",
   "name": "python3"
  },
  "language_info": {
   "codemirror_mode": {
    "name": "ipython",
    "version": 3
   },
   "file_extension": ".py",
   "mimetype": "text/x-python",
   "name": "python",
   "nbconvert_exporter": "python",
   "pygments_lexer": "ipython3",
   "version": "3.12.1"
  }
 },
 "nbformat": 4,
 "nbformat_minor": 4
}
