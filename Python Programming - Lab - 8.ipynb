{
 "cells": [
  {
   "cell_type": "markdown",
   "metadata": {
    "id": "I36ZtkY_TPga"
   },
   "source": [
    "<a href='https://www.darshan.ac.in/'> <img src='https://www.darshan.ac.in/Content/media/DU_Logo.svg' width=\"250\" height=\"300\"/></a>\n",
    "<pre>\n",
    "<center><b><h1>Python Programming - 2101CS405</b></center>\n",
    "<center><b><h1>Lab - 8</b></center>    \n",
    "<pre>"
   ]
  },
  {
   "cell_type": "markdown",
   "metadata": {},
   "source": [
    "#### Name : Meet Kacha\n",
    "#### Enrollment No : 23010101624\n",
    "#### Date : 27-02-2024"
   ]
  },
  {
   "cell_type": "markdown",
   "metadata": {
    "id": "xBdreJBkTPgd"
   },
   "source": [
    "# File handling"
   ]
  },
  {
   "cell_type": "markdown",
   "metadata": {},
   "source": [
    "# f= open(\"abc.txt\",\"r\")\n",
    "### open(\" file_path \" , \" permission \") == open given file with given permisson\n",
    "### \"w\" = write mode (which overwrite file)\n",
    "### \"a\" = write mode (which append at end of  file)\n",
    "### \"r\" = read mode\n",
    "\n",
    "# f.readlines()\n",
    "### read() == return whole file in string\n",
    "### readline() == return first line of file\n",
    "### readlines() == return list of all lines \n",
    "\n",
    "# f.close() to close opened file"
   ]
  },
  {
   "cell_type": "markdown",
   "metadata": {},
   "source": [
    "## Simple Example of Character Encoding and Decoding\n",
    "## use this to encode and decode files"
   ]
  },
  {
   "cell_type": "code",
   "execution_count": 1,
   "metadata": {},
   "outputs": [
    {
     "name": "stdout",
     "output_type": "stream",
     "text": [
      "abcdefghijklmnopqrstuvwxyzABCDEFGHIJKLMNOPQRSTUVWXYZ\n",
      "URXjqYOguKkbANeSiZECMQHPIvGzncBVpmwDhadTsxLWJfrloytF\n",
      "abc encoded :  URX\n",
      "xyz encoded :  PIv\n",
      "hello encoded :  gqbbe\n"
     ]
    }
   ],
   "source": [
    "s = \"abcdefghijklmnopqrstuvwxyzABCDEFGHIJKLMNOPQRSTUVWXYZ\"\n",
    "print(s)\n",
    "b = \"URXjqYOguKkbANeSiZECMQHPIvGzncBVpmwDhadTsxLWJfrloytF\"\n",
    "print(b)\n",
    "\n",
    "def encode(word):\n",
    "    x = \"\"\n",
    "    for i in word:\n",
    "        x += b[s.find(i)]\n",
    "    return x\n",
    "        \n",
    "print(\"abc encoded : \",encode(\"abc\"))\n",
    "print(\"xyz encoded : \",encode(\"xyz\"))\n",
    "print(\"hello encoded : \",encode(\"hello\"))"
   ]
  },
  {
   "cell_type": "code",
   "execution_count": 2,
   "metadata": {},
   "outputs": [
    {
     "name": "stdout",
     "output_type": "stream",
     "text": [
      "abcdefghijklmnopqrstuvwxyzABCDEFGHIJKLMNOPQRSTUVWXYZ\n",
      "URXjqYOguKkbANeSiZECMQHPIvGzncBVpmwDhadTsxLWJfrloytF\n",
      "URX decoded :  abc\n",
      "PIv decoded :  xyz\n",
      "gqbbe decoded :  hello\n"
     ]
    }
   ],
   "source": [
    "s = \"abcdefghijklmnopqrstuvwxyzABCDEFGHIJKLMNOPQRSTUVWXYZ\"\n",
    "print(s)\n",
    "b = \"URXjqYOguKkbANeSiZECMQHPIvGzncBVpmwDhadTsxLWJfrloytF\"\n",
    "print(b)\n",
    "\n",
    "def decode(word):\n",
    "    x = \"\"\n",
    "    for i in word:\n",
    "        x += s[b.find(i)]\n",
    "    return x\n",
    "        \n",
    "print(\"URX decoded : \",decode(\"URX\"))\n",
    "print(\"PIv decoded : \",decode(\"PIv\"))\n",
    "print(\"gqbbe decoded : \",decode(\"gqbbe\"))"
   ]
  },
  {
   "cell_type": "markdown",
   "metadata": {
    "id": "A97RmQaYTPgd"
   },
   "source": [
    "# A"
   ]
  },
  {
   "cell_type": "markdown",
   "metadata": {
    "id": "od-WISIcTPge"
   },
   "source": [
    "### 01) WAP to read entire file named abc.txt"
   ]
  },
  {
   "cell_type": "code",
   "execution_count": 3,
   "metadata": {
    "id": "2THz-NwJTPge",
    "outputId": "9012361b-4976-4566-a06d-9f257d079352"
   },
   "outputs": [
    {
     "name": "stdout",
     "output_type": "stream",
     "text": [
      "My Name is Meet.\n",
      "I am 19 years old.\n",
      "i love to watch WWE.\n",
      "My Favourite Car is BMW M5.\n",
      "I am a Student of Darshan University.\n",
      "My Favourite Movie is GodzillaxKong.\n",
      "BMW is the Fastest Car\n"
     ]
    }
   ],
   "source": [
    "f=open('abc.txt')\n",
    "data=f.read()\n",
    "print(data)"
   ]
  },
  {
   "cell_type": "markdown",
   "metadata": {
    "id": "dw7WR9pyTPgf"
   },
   "source": [
    "### 02) WAP to print program it self on console."
   ]
  },
  {
   "cell_type": "code",
   "execution_count": 4,
   "metadata": {
    "colab": {
     "base_uri": "https://localhost:8080/",
     "height": 192
    },
    "executionInfo": {
     "elapsed": 5,
     "status": "error",
     "timestamp": 1706841915158,
     "user": {
      "displayName": "Tej Patel",
      "userId": "04032777318747107215"
     },
     "user_tz": -330
    },
    "id": "9Lu5xWYGTPgf",
    "outputId": "75fb1079-d9c9-465a-ee43-d57dbf85f143"
   },
   "outputs": [
    {
     "name": "stdout",
     "output_type": "stream",
     "text": [
      "a = 5\n",
      "for  i in range(a):\n",
      "    print(\"Meet\")\n"
     ]
    }
   ],
   "source": [
    "f2=open('demo.py')\n",
    "data=f2.read()\n",
    "print(data)"
   ]
  },
  {
   "cell_type": "markdown",
   "metadata": {
    "id": "TZgCdZrCTPgg"
   },
   "source": [
    "### 03) WAP to read first 5 lines from the file named abc.txt"
   ]
  },
  {
   "cell_type": "code",
   "execution_count": 5,
   "metadata": {
    "id": "PaMKPMlETPgg",
    "outputId": "df4daab5-8a4f-4efb-fc05-d869df22fcb7"
   },
   "outputs": [
    {
     "name": "stdout",
     "output_type": "stream",
     "text": [
      "My Name is meet.\n",
      "\n",
      "I am 19 years old.\n",
      "\n",
      "i love to watch WWE.\n",
      "\n",
      "My Favourite Car is BMW M5.\n",
      "\n",
      "I am a Student of Darshan University.\n",
      "\n"
     ]
    }
   ],
   "source": [
    "f3 = open(\"abc.txt\",\"r\")\n",
    "list=[line for line in f3.readlines()[0:5]]\n",
    "for i in list:\n",
    "    print(i)"
   ]
  },
  {
   "cell_type": "markdown",
   "metadata": {
    "id": "q-YevoPZTPgg"
   },
   "source": [
    "### 04) WAP to find the longest word in a file named abc.txt"
   ]
  },
  {
   "cell_type": "code",
   "execution_count": 6,
   "metadata": {
    "id": "-nFvgaoRTPgg",
    "outputId": "5e80bbfe-c20a-4ccd-b5f3-7f76e9b5461f"
   },
   "outputs": [
    {
     "name": "stdout",
     "output_type": "stream",
     "text": [
      "Longest Word is:GodzillaxKong.\n"
     ]
    }
   ],
   "source": [
    "longest=\"\"\n",
    "f4 = open(\"abc.txt\",\"r\")\n",
    "lineslist = f4.readlines()\n",
    "for line in lineslist:\n",
    "    words=line.split()\n",
    "    for w in words:\n",
    "        if(len(w) > len(longest)):\n",
    "            longest = w\n",
    "print(f\"Longest Word is:{longest}\")\n",
    "f4.close()"
   ]
  },
  {
   "cell_type": "markdown",
   "metadata": {
    "id": "DvMAEtYiTPgh"
   },
   "source": [
    "### 05) WAP to find the size of the file named abc.txt"
   ]
  },
  {
   "cell_type": "code",
   "execution_count": 7,
   "metadata": {
    "id": "qzFSYd-5TPgh",
    "outputId": "f474b5d3-fb48-4fa8-b22d-93c562fe3daf"
   },
   "outputs": [
    {
     "name": "stdout",
     "output_type": "stream",
     "text": [
      "188 bytes\n"
     ]
    }
   ],
   "source": [
    "import os\n",
    "size = os.path.getsize('abc.txt')\n",
    "print(size,\"bytes\")"
   ]
  },
  {
   "cell_type": "markdown",
   "metadata": {
    "id": "kJLGBHk1TPgh"
   },
   "source": [
    "### 06) WAP to implement search function to search specific occurance of word in a given text file."
   ]
  },
  {
   "cell_type": "markdown",
   "metadata": {},
   "source": [
    "## find for case sensitive and case insensitive"
   ]
  },
  {
   "cell_type": "code",
   "execution_count": 10,
   "metadata": {
    "id": "tD4lzsmnTPgh",
    "outputId": "6b14f7eb-70e4-4810-fa16-eedfab8d7a56"
   },
   "outputs": [
    {
     "name": "stdout",
     "output_type": "stream",
     "text": [
      "Enter the word to be searched:BMW\n",
      "Word is: BMW\n",
      "Occurrences of the word BMW : 2\n"
     ]
    }
   ],
   "source": [
    "word=input(\"Enter the word to be searched:\")\n",
    "print(\"Word is:\",word)\n",
    "count = 0\n",
    "with open(\"abc.txt\", 'r') as f: \n",
    "\tfor line in f: \n",
    "\t\twords = line.split() \n",
    "\t\tfor i in words: \n",
    "\t\t\tif(i==word): \n",
    "\t\t\t\tcount=count+1\n",
    "print(\"Occurrences of the word\", word, \":\", count)"
   ]
  },
  {
   "cell_type": "code",
   "execution_count": 8,
   "metadata": {},
   "outputs": [
    {
     "name": "stdout",
     "output_type": "stream",
     "text": [
      "The Occurence of word BMW is: 2\n"
     ]
    }
   ],
   "source": [
    "x = \"BMW\"\n",
    "max = 0\n",
    "f = open('abc.txt')\n",
    "data = f.readlines()\n",
    "for l in data:\n",
    "    words = l.split(\" \")\n",
    "    for w in words:\n",
    "        w = w.split('\\n')\n",
    "        if w[0] == x:\n",
    "            max+=1\n",
    "print(f\"The Occurence of word {x} is: {max}\")\n",
    "f.close() "
   ]
  },
  {
   "cell_type": "markdown",
   "metadata": {
    "id": "L6REsnDATPgi"
   },
   "source": [
    "# B"
   ]
  },
  {
   "cell_type": "markdown",
   "metadata": {
    "id": "kHJlC4Y6TPgi"
   },
   "source": [
    "### 01) WAP to write first 100 prime numbers to a file named primenumbers.txt\n",
    "(Note: each number should be in new line)"
   ]
  },
  {
   "cell_type": "code",
   "execution_count": 11,
   "metadata": {
    "id": "Exuwt3LUTPgi"
   },
   "outputs": [],
   "source": [
    "f=open(\"primenumbers.txt\",\"w\")\n",
    "for i in range(2,101):\n",
    "    flag=True\n",
    "    for j in range(2,int(i/2)+1):\n",
    "        if(i%j==0):\n",
    "            flag=False\n",
    "    if flag==True:\n",
    "        f.write(str(i)+'\\n')\n",
    "f.close()"
   ]
  },
  {
   "cell_type": "markdown",
   "metadata": {
    "id": "RiwS7zu9TPgi"
   },
   "source": [
    "### 02) WAP to merge two files and write it in a new file."
   ]
  },
  {
   "cell_type": "code",
   "execution_count": 12,
   "metadata": {
    "id": "mbJst57RTPgi"
   },
   "outputs": [],
   "source": [
    "f1=open('abc.txt')\n",
    "f2=open('primenumbers.txt')\n",
    "\n",
    "f=open(\"third.txt\",\"w\")\n",
    "f.write(f1.read()+'\\n'+f2.read())\n",
    "f.close()"
   ]
  },
  {
   "cell_type": "markdown",
   "metadata": {
    "id": "rvUXdk_HTPgj"
   },
   "source": [
    "### 03) WAP to encrypt a text file."
   ]
  },
  {
   "cell_type": "code",
   "execution_count": 13,
   "metadata": {
    "colab": {
     "base_uri": "https://localhost:8080/",
     "height": 290
    },
    "executionInfo": {
     "elapsed": 810346,
     "status": "error",
     "timestamp": 1704252480254,
     "user": {
      "displayName": "Javiya Hit",
      "userId": "07658258706577815819"
     },
     "user_tz": -330
    },
    "id": "VzWMkuX5TPgj",
    "outputId": "0533eb74-4d4d-4001-ac6d-12b4183ff656"
   },
   "outputs": [],
   "source": [
    "f = open('abc.txt')\n",
    "f2 = open('encry.txt',\"w\")\n",
    "data = f.read()\n",
    "for l in data:\n",
    "   c = (ord(l) + 2)\n",
    "   f2.write(chr(c))\n",
    "f.close()\n",
    "f2.close() "
   ]
  },
  {
   "cell_type": "markdown",
   "metadata": {
    "id": "tH0WQ_KWTPgj"
   },
   "source": [
    "### 04) WAP to decrypt a previously encrypted file."
   ]
  },
  {
   "cell_type": "code",
   "execution_count": 14,
   "metadata": {
    "id": "xMBZQxZ-TPgj",
    "outputId": "51bd33ea-d1fd-4d8e-c421-8a69fe715e1f"
   },
   "outputs": [
    {
     "name": "stdout",
     "output_type": "stream",
     "text": [
      "My Name is meet.\n",
      "I am 19 years old.\n",
      "i love to watch WWE.\n",
      "My Favourite Car is BMW M5.\n",
      "I am a Student of Darshan University.\n",
      "My Favourite Movie is GodzillaxKong.\n",
      "BMW is the Fastest Car"
     ]
    }
   ],
   "source": [
    "f = open('encry.txt')\n",
    "data = f.read()\n",
    "for l in data:\n",
    "   c = (ord(l) - 2)\n",
    "   print(chr(c), end='')\n",
    "f.close() "
   ]
  },
  {
   "cell_type": "markdown",
   "metadata": {
    "id": "LDiFjfv5TPgj"
   },
   "source": [
    "### 05) WAP to remove a word from text file."
   ]
  },
  {
   "cell_type": "code",
   "execution_count": 15,
   "metadata": {
    "id": "IeL9KPTLTPgk",
    "outputId": "961c121c-c3ac-4fa9-d599-23374dac4292"
   },
   "outputs": [
    {
     "name": "stdout",
     "output_type": "stream",
     "text": [
      "Enter the word to remove: BMW\n",
      "Word removed successfully!\n"
     ]
    }
   ],
   "source": [
    "\n",
    "infile = open(\"abc.txt\", \"r\")\n",
    "outfile = open(\"remove.txt\", \"w\")\n",
    "\n",
    "word_to_remove = input(\"Enter the word to remove: \").lower()\n",
    "\n",
    "for line in infile:\n",
    "\n",
    "  new_line = \" \".join([word for word in line.split() if word.lower() != word_to_remove])\n",
    "\n",
    "  outfile.write(new_line)\n",
    "\n",
    "infile.close()\n",
    "outfile.close()\n",
    "\n",
    "print(\"Word removed successfully!\")\n"
   ]
  },
  {
   "cell_type": "code",
   "execution_count": null,
   "metadata": {},
   "outputs": [],
   "source": []
  }
 ],
 "metadata": {
  "colab": {
   "provenance": []
  },
  "kernelspec": {
   "display_name": "Python 3 (ipykernel)",
   "language": "python",
   "name": "python3"
  },
  "language_info": {
   "codemirror_mode": {
    "name": "ipython",
    "version": 3
   },
   "file_extension": ".py",
   "mimetype": "text/x-python",
   "name": "python",
   "nbconvert_exporter": "python",
   "pygments_lexer": "ipython3",
   "version": "3.11.5"
  },
  "vscode": {
   "interpreter": {
    "hash": "5238573367df39f7286bb46f9ff5f08f63a01a80960060ce41e3c79b190280fa"
   }
  }
 },
 "nbformat": 4,
 "nbformat_minor": 4
}
