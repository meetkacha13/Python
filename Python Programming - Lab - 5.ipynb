{
 "cells": [
  {
   "cell_type": "markdown",
   "metadata": {},
   "source": [
    "\n",
    "<a href='https://www.darshan.ac.in/'> <img src='https://www.darshan.ac.in/Content/media/DU_Logo.svg' width=\"250\" height=\"300\"/></a>\n",
    "<pre>\n",
    "<center><b><h1>Python Programming - 2101CS405</b></center>\n",
    "<center><b><h1>Lab - 5</b></center>    \n",
    "<pre>"
   ]
  },
  {
   "cell_type": "markdown",
   "metadata": {},
   "source": [
    "### kacha meet\n",
    "### 23010101624\n",
    "### 30/01/2024"
   ]
  },
  {
   "cell_type": "markdown",
   "metadata": {},
   "source": [
    "# list"
   ]
  },
  {
   "cell_type": "markdown",
   "metadata": {},
   "source": [
    "### 01) WAP to find sum of all the elements in List."
   ]
  },
  {
   "cell_type": "code",
   "execution_count": 2,
   "metadata": {},
   "outputs": [
    {
     "name": "stdout",
     "output_type": "stream",
     "text": [
      "Enter -1 to end input\n",
      "[5, 1, 2, 3, 4, 5, 6]\n",
      "answer = 26\n"
     ]
    }
   ],
   "source": [
    "list1 = []\n",
    "ans = 0\n",
    "print(\"Enter -1 to end input\")\n",
    "while True:\n",
    "    temp = int(input(\"Enter element : \"))\n",
    "    if temp == -1 :\n",
    "        break\n",
    "    else:\n",
    "        list1.append(temp)\n",
    "print(list1)\n",
    "\n",
    "for i in list1:\n",
    "    ans = ans+i\n",
    "print(f\"answer = {ans}\")"
   ]
  },
  {
   "cell_type": "markdown",
   "metadata": {},
   "source": [
    "### 02) WAP to find largest element in a List."
   ]
  },
  {
   "cell_type": "code",
   "execution_count": 10,
   "metadata": {},
   "outputs": [
    {
     "name": "stdout",
     "output_type": "stream",
     "text": [
      "Nothing done.\n",
      "Enter -1 to end input\n",
      "[10, 20, 0, 5]\n",
      "largest element is 20\n"
     ]
    }
   ],
   "source": [
    "list2 = []\n",
    "\n",
    "print(\"Enter -1 to end input\")\n",
    "while True:\n",
    "    temp = int(input(\"Enter element : \"))\n",
    "    if temp == -1 :\n",
    "        break\n",
    "    else:\n",
    "        list2.append(temp)\n",
    "print(list2)\n",
    "\n",
    "max_element = list2[0]\n",
    "for i in range(1,len(list2)):\n",
    "    if list2[i]>max_element:\n",
    "        max_element = list2[i]\n",
    "\n",
    "print(f\"largest element is {max_element}\")"
   ]
  },
  {
   "cell_type": "markdown",
   "metadata": {},
   "source": [
    "### 03) WAP to split the List into two and append the first part to the end."
   ]
  },
  {
   "cell_type": "code",
   "execution_count": 20,
   "metadata": {},
   "outputs": [
    {
     "name": "stdout",
     "output_type": "stream",
     "text": [
      "Enter -1 to end input\n",
      "[1, 2, 3, 4, 5]\n",
      "The elements after 2th index are : \n",
      "[3, 4, 5]\n",
      "final answer = [3, 4, 5, 1, 2]\n"
     ]
    }
   ],
   "source": [
    "list3 = []\n",
    "new = []\n",
    "\n",
    "print(\"Enter -1 to end input\")\n",
    "while True:\n",
    "    temp = int(input(\"Enter element : \"))\n",
    "    if temp == -1 :\n",
    "        break\n",
    "    else:\n",
    "        list3.append(temp)\n",
    "print(list3)\n",
    "\n",
    "start = int(input(\"enter starting index\"))\n",
    "\n",
    "for i in range(list3[start]-1,len(list3)):\n",
    "    new.append(list3[i])\n",
    "\n",
    "print(f\"The elements after {start}th index are : \\n{new}\")\n",
    "\n",
    "for i in range(list3[0]-1,list3[start]-1):\n",
    "    new.append(list3[i])\n",
    "\n",
    "print(f\"final answer = {new}\")"
   ]
  },
  {
   "cell_type": "markdown",
   "metadata": {},
   "source": [
    "### 04) WAP to interchange first and last elements in list entered by a user."
   ]
  },
  {
   "cell_type": "code",
   "execution_count": 25,
   "metadata": {},
   "outputs": [
    {
     "name": "stdout",
     "output_type": "stream",
     "text": [
      "Enter -1 to end input\n",
      "[1, 2, 3, 4, 5]\n",
      "after change first and last element = [5, 2, 3, 4, 1]\n"
     ]
    }
   ],
   "source": [
    "list4 = []\n",
    "\n",
    "print(\"Enter -1 to end input\")\n",
    "while True:\n",
    "    temp = int(input(\"Enter element : \"))\n",
    "    if temp == -1 :\n",
    "        break\n",
    "    else:\n",
    "        list4.append(temp)\n",
    "print(list4)\n",
    "\n",
    "list4[0], list4[-1] = list4[-1], list4[0]\n",
    "\n",
    "print(f\"after change first and last element = {list4}\")"
   ]
  },
  {
   "cell_type": "markdown",
   "metadata": {},
   "source": [
    "### 05) WAP to interchange the elements on two positions entered by a user."
   ]
  },
  {
   "cell_type": "code",
   "execution_count": 27,
   "metadata": {},
   "outputs": [
    {
     "name": "stdout",
     "output_type": "stream",
     "text": [
      "Enter -1 to end input\n",
      "[1, 2, 3, 4, 5]\n",
      "starting index of list 2\n",
      "ending index of list 3\n",
      "after change list = [1, 2, 4, 3, 5]\n"
     ]
    }
   ],
   "source": [
    "list5 = []\n",
    "\n",
    "print(\"Enter -1 to end input\")\n",
    "while True:\n",
    "    temp = int(input(\"Enter element : \"))\n",
    "    if temp == -1 :\n",
    "        break\n",
    "    else:\n",
    "        list5.append(temp)\n",
    "print(list5)\n",
    "\n",
    "start = int(input(\"enter starting index\"))\n",
    "end = int(input(\"enter ending index\"))\n",
    "\n",
    "print(f\"starting index of list {start}\")\n",
    "print(f\"ending index of list {end}\")\n",
    "\n",
    "list5[start], list5[end] = list5[end], list5[start]\n",
    "\n",
    "print(f\"after change list = {list5}\")"
   ]
  },
  {
   "cell_type": "markdown",
   "metadata": {},
   "source": [
    "### 06) WAP to reverses the list entered by user."
   ]
  },
  {
   "cell_type": "code",
   "execution_count": 5,
   "metadata": {},
   "outputs": [
    {
     "name": "stdout",
     "output_type": "stream",
     "text": [
      "Reversed list is:  [5]\n"
     ]
    }
   ],
   "source": [
    "numbers = list(map(int, input(\"Enter the elements\").split()))\n",
    "reversed_list = numbers[::-1]\n",
    "print(\"Reversed list is: \", reversed_list)"
   ]
  },
  {
   "cell_type": "markdown",
   "metadata": {},
   "source": [
    "### 07) Python program to remove multiple elements from a list using list comprehension"
   ]
  },
  {
   "cell_type": "code",
   "execution_count": 8,
   "metadata": {},
   "outputs": [
    {
     "name": "stdout",
     "output_type": "stream",
     "text": [
      "Modified list:  [1]\n"
     ]
    }
   ],
   "source": [
    "list1 = list(map(int, input(\"Enter the elements\").split()))\n",
    "list1 = [int(elem) for elem in list1]\n",
    "remove_elements = input(\"Enter elements to be removed, separated by commas:\")\n",
    "remove_elements = [int(elem) for elem in remove_elements]\n",
    "list1 = [elem for elem in list1 if elem not in remove_elements]\n",
    "print(\"Modified list: \", list1)"
   ]
  },
  {
   "cell_type": "markdown",
   "metadata": {},
   "source": [
    "### 08) Create a list from the specified start to end index of another list."
   ]
  },
  {
   "cell_type": "code",
   "execution_count": 9,
   "metadata": {},
   "outputs": [
    {
     "name": "stdout",
     "output_type": "stream",
     "text": [
      "New list:  [2, 2, 3, 5, 4]\n"
     ]
    }
   ],
   "source": [
    "list1 = input(\"Enter elements of list separated by commas: \").split(',')\n",
    "list1 = [int(elem) for elem in list1]\n",
    "start_index = int(input(\"Enter the start index: \"))\n",
    "end_index = int(input(\"Enter the end index: \"))\n",
    "new_list = list1[start_index:end_index+1]\n",
    "print(\"New list: \", new_list)"
   ]
  },
  {
   "cell_type": "markdown",
   "metadata": {},
   "source": [
    "### 09) Input comma separated elements, convert into list and print."
   ]
  },
  {
   "cell_type": "code",
   "execution_count": 10,
   "metadata": {},
   "outputs": [
    {
     "name": "stdout",
     "output_type": "stream",
     "text": [
      "['1', '5', '9']\n"
     ]
    }
   ],
   "source": [
    "number = input(\"Enter comma separated elements: \")\n",
    "elements_list = number.split(',')\n",
    "print(elements_list)"
   ]
  },
  {
   "cell_type": "markdown",
   "metadata": {},
   "source": [
    "### 01) WAP to count Even and Odd numbers in a List."
   ]
  },
  {
   "cell_type": "code",
   "execution_count": 12,
   "metadata": {},
   "outputs": [
    {
     "name": "stdout",
     "output_type": "stream",
     "text": [
      "Number of even numbers:  4\n",
      "Number of odd numbers:  5\n"
     ]
    }
   ],
   "source": [
    "numbers = [1, 2, 3, 4, 5, 6, 7, 8, 9]\n",
    "even_count = 0\n",
    "odd_count = 0\n",
    "for num in numbers:\n",
    " if num % 2 == 0:\n",
    "    even_count += 1\n",
    " else:\n",
    "    odd_count += 1\n",
    "print(\"Number of even numbers: \", even_count)\n",
    "print(\"Number of odd numbers: \", odd_count)"
   ]
  },
  {
   "cell_type": "markdown",
   "metadata": {},
   "source": [
    "### 02) Python program to find N largest and smallest elements from the list"
   ]
  },
  {
   "cell_type": "code",
   "execution_count": 13,
   "metadata": {},
   "outputs": [
    {
     "name": "stdout",
     "output_type": "stream",
     "text": [
      "Largest: [37, 42]\n",
      "Smallest: [-4, 1]\n"
     ]
    }
   ],
   "source": [
    "numbers = [1, 8, 2, 23, 7, -4, 18, 23, 42, 37, 2]\n",
    "N = 2\n",
    "largest_elements = sorted(numbers)[-N:]\n",
    "smallest_elements = sorted(numbers)[:N]\n",
    "print(f\"Largest: {largest_elements}\")\n",
    "print(f\"Smallest: {smallest_elements}\")"
   ]
  },
  {
   "cell_type": "markdown",
   "metadata": {},
   "source": [
    "### 03) WAP to print duplicates from a list of integers"
   ]
  },
  {
   "cell_type": "code",
   "execution_count": 14,
   "metadata": {},
   "outputs": [
    {
     "name": "stdout",
     "output_type": "stream",
     "text": [
      "Duplicates in the list: [2, 3, 4, 5]\n"
     ]
    }
   ],
   "source": [
    "numbers = [1, 2, 3, 4, 2, 5, 6, 3, 7, 8, 4, 9, 10, 5]\n",
    "freq_map = {}\n",
    "duplicates = []\n",
    "for num in numbers:\n",
    " freq_map[num] = freq_map.get(num, 0) + 1\n",
    " if freq_map[num] > 1:\n",
    "    duplicates.append(num)\n",
    "print(\"Duplicates in the list:\", duplicates)"
   ]
  }
 ],
 "metadata": {
  "kernelspec": {
   "display_name": "Python 3 (ipykernel)",
   "language": "python",
   "name": "python3"
  },
  "language_info": {
   "codemirror_mode": {
    "name": "ipython",
    "version": 3
   },
   "file_extension": ".py",
   "mimetype": "text/x-python",
   "name": "python",
   "nbconvert_exporter": "python",
   "pygments_lexer": "ipython3",
   "version": "3.12.1"
  }
 },
 "nbformat": 4,
 "nbformat_minor": 4
}
