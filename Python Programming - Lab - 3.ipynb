{
 "cells": [
  {
   "cell_type": "markdown",
   "metadata": {},
   "source": [
    "\n",
    "<a href='https://www.darshan.ac.in/'> <img src='https://www.darshan.ac.in/Content/media/DU_Logo.svg' width=\"250\" height=\"300\"/></a>\n",
    "<pre>\n",
    "<center><b><h1>Python Programming - 2101CS405</b></center>\n",
    "<center><b><h1>Lab - 3</b></center>    \n",
    "<pre>"
   ]
  },
  {
   "cell_type": "markdown",
   "metadata": {},
   "source": [
    "### kacha meet\n",
    "### 23010101624\n",
    "### 16/01/2024"
   ]
  },
  {
   "cell_type": "markdown",
   "metadata": {},
   "source": [
    "# for and while loop"
   ]
  },
  {
   "cell_type": "markdown",
   "metadata": {},
   "source": [
    "### 01) WAP to print 1 to 10"
   ]
  },
  {
   "cell_type": "code",
   "execution_count": 1,
   "metadata": {},
   "outputs": [
    {
     "name": "stdout",
     "output_type": "stream",
     "text": [
      "1\n",
      "2\n",
      "3\n",
      "4\n",
      "5\n",
      "6\n",
      "7\n",
      "8\n",
      "9\n",
      "10\n"
     ]
    }
   ],
   "source": [
    "###3_1\n",
    "for i in range(1,11):\n",
    "    print(i)"
   ]
  },
  {
   "cell_type": "markdown",
   "metadata": {},
   "source": [
    "### 02) WAP to print 1 to n"
   ]
  },
  {
   "cell_type": "code",
   "execution_count": 2,
   "metadata": {},
   "outputs": [
    {
     "name": "stdout",
     "output_type": "stream",
     "text": [
      "enter number : 5\n",
      "1\n",
      "2\n",
      "3\n",
      "4\n",
      "5\n"
     ]
    }
   ],
   "source": [
    "###3_2\n",
    "n = int(input(\"enter number : \"))\n",
    "\n",
    "for i in range(1,n+1):\n",
    "    print(i)"
   ]
  },
  {
   "cell_type": "markdown",
   "metadata": {},
   "source": [
    "### 03) WAP to print odd numbers between 1 to n"
   ]
  },
  {
   "cell_type": "code",
   "execution_count": 3,
   "metadata": {},
   "outputs": [
    {
     "name": "stdout",
     "output_type": "stream",
     "text": [
      "enter number : 6\n",
      "1\n",
      "3\n",
      "5\n"
     ]
    }
   ],
   "source": [
    "###3_3\n",
    "n = int(input(\"enter number : \"))\n",
    "\n",
    "for i in range(1,n+1):\n",
    "    if i%2!=0:\n",
    "        print(i)"
   ]
  },
  {
   "cell_type": "markdown",
   "metadata": {},
   "source": [
    "### 04) WAP to print numbers between two given numbers which is divisible by 2 but not divisible by 3"
   ]
  },
  {
   "cell_type": "code",
   "execution_count": 4,
   "metadata": {},
   "outputs": [
    {
     "name": "stdout",
     "output_type": "stream",
     "text": [
      "enter start number : 10\n",
      "enter end number : 20\n",
      "10\n",
      "14\n",
      "16\n"
     ]
    }
   ],
   "source": [
    "###3_4\n",
    "start = int(input(\"enter start number : \"))\n",
    "end = int(input(\"enter end number : \"))\n",
    "\n",
    "for i in range(start,end):\n",
    "    if i%2==0 and i%3!=0:\n",
    "        print(i)"
   ]
  },
  {
   "cell_type": "markdown",
   "metadata": {},
   "source": [
    "### 05) WAP to print sum of 1 to n numbers"
   ]
  },
  {
   "cell_type": "code",
   "execution_count": 5,
   "metadata": {},
   "outputs": [
    {
     "name": "stdout",
     "output_type": "stream",
     "text": [
      "enter number : 10\n",
      "sum = 55\n"
     ]
    }
   ],
   "source": [
    "###3_5\n",
    "n = int(input(\"enter number : \"))\n",
    "sum=0\n",
    "for i in range(1,n+1):\n",
    "    sum += i\n",
    "    \n",
    "print(f\"sum = {sum}\")"
   ]
  },
  {
   "cell_type": "markdown",
   "metadata": {},
   "source": [
    "### 06) WAP to print sum of series 1 + 4 + 9 + 16 + 25 + 36 + ...n"
   ]
  },
  {
   "cell_type": "code",
   "execution_count": 6,
   "metadata": {},
   "outputs": [
    {
     "name": "stdout",
     "output_type": "stream",
     "text": [
      "enter number : 5\n",
      "sum = 55\n"
     ]
    }
   ],
   "source": [
    "###3_6\n",
    "n = int(input(\"enter number : \"))\n",
    "sum=0\n",
    "\n",
    "for i in range(1,n+1):\n",
    "    temp = i**2\n",
    "    sum += temp\n",
    "    \n",
    "print(f\"sum = {sum}\")"
   ]
  },
  {
   "cell_type": "markdown",
   "metadata": {},
   "source": [
    "### 07) WAP to print sum of series 1 – 2 + 3 – 4 + 5 – 6 + 7 ... n"
   ]
  },
  {
   "cell_type": "code",
   "execution_count": 7,
   "metadata": {},
   "outputs": [
    {
     "name": "stdout",
     "output_type": "stream",
     "text": [
      "enter number : 3\n",
      "sum = 2\n"
     ]
    }
   ],
   "source": [
    "###3_7\n",
    "n = int(input(\"enter number : \"))\n",
    "sum=0\n",
    "\n",
    "for i in range(1, n+1):\n",
    "        if i % 2 == 0:\n",
    "            sum -= i\n",
    "        else:\n",
    "            sum += i\n",
    "            \n",
    "print(f\"sum = {sum}\")"
   ]
  },
  {
   "cell_type": "markdown",
   "metadata": {},
   "source": [
    "### 08) WAP to print multiplication table of given number."
   ]
  },
  {
   "cell_type": "code",
   "execution_count": 8,
   "metadata": {},
   "outputs": [
    {
     "name": "stdout",
     "output_type": "stream",
     "text": [
      "enter number for table : 2\n",
      "2 * 1 = 2\n",
      "2 * 2 = 4\n",
      "2 * 3 = 6\n",
      "2 * 4 = 8\n",
      "2 * 5 = 10\n",
      "2 * 6 = 12\n",
      "2 * 7 = 14\n",
      "2 * 8 = 16\n",
      "2 * 9 = 18\n",
      "2 * 10 = 20\n"
     ]
    }
   ],
   "source": [
    "###3_8\n",
    "n = int(input(\"enter number for table : \"))\n",
    "\n",
    "for i in range(1,11):\n",
    "    print(f\"{n} * {i} = {n*i}\")"
   ]
  },
  {
   "cell_type": "markdown",
   "metadata": {},
   "source": [
    "### 09) WAP to find factorial of the given number"
   ]
  },
  {
   "cell_type": "code",
   "execution_count": 9,
   "metadata": {},
   "outputs": [
    {
     "name": "stdout",
     "output_type": "stream",
     "text": [
      "enter number : 5\n",
      "factorial of 5 = 120\n"
     ]
    }
   ],
   "source": [
    "###3_9\n",
    "n = int(input(\"enter number : \"))\n",
    "fact=1\n",
    "for i in range(1,n+1):\n",
    "    fact *= i\n",
    "    \n",
    "print(f\"factorial of {n} = {fact}\")"
   ]
  },
  {
   "cell_type": "markdown",
   "metadata": {},
   "source": [
    "### 10) WAP to find factors of the given number"
   ]
  },
  {
   "cell_type": "code",
   "execution_count": 10,
   "metadata": {},
   "outputs": [
    {
     "name": "stdout",
     "output_type": "stream",
     "text": [
      "enter number : 10\n",
      "factors of 10 is :\n",
      "1\n",
      "2\n",
      "5\n",
      "10\n"
     ]
    }
   ],
   "source": [
    "###3_10\n",
    "n = int(input(\"enter number : \"))\n",
    "print(f\"factors of {n} is :\")\n",
    "for i in range(1,n+1):\n",
    "    if n%i==0:\n",
    "        print(i)"
   ]
  },
  {
   "cell_type": "markdown",
   "metadata": {},
   "source": [
    "### 11) WAP to find whether the given number is prime or not."
   ]
  },
  {
   "cell_type": "code",
   "execution_count": 11,
   "metadata": {},
   "outputs": [
    {
     "name": "stdout",
     "output_type": "stream",
     "text": [
      "enter number : 10\n",
      "10 is not prime number\n"
     ]
    }
   ],
   "source": [
    "###3_11\n",
    "n = int(input(\"enter number : \"))\n",
    "\n",
    "if n > 1:\n",
    "    for i in range(2,int(n/2)+1):\n",
    "        if n%i==0:\n",
    "            print(f\"{n} is not prime number\")\n",
    "            break\n",
    "    else:\n",
    "        print(f\"{n} is prime number\")\n",
    "else:\n",
    "    print(f\"{n} is not prime number\")"
   ]
  },
  {
   "cell_type": "markdown",
   "metadata": {},
   "source": [
    "### 12) WAP to print sum of digits of given number"
   ]
  },
  {
   "cell_type": "code",
   "execution_count": 12,
   "metadata": {},
   "outputs": [
    {
     "name": "stdout",
     "output_type": "stream",
     "text": [
      "enter number : 123\n",
      "sum of 123= 6\n"
     ]
    }
   ],
   "source": [
    "###3_12\n",
    "n = int(input(\"enter number : \"))\n",
    "sum=0\n",
    "for digit in str(n):\n",
    "    sum += int(digit)\n",
    "print(f\"sum of {n}= {sum}\")"
   ]
  },
  {
   "cell_type": "markdown",
   "metadata": {},
   "source": [
    "### 13) WAP to check whether the given number is palindrome or not"
   ]
  },
  {
   "cell_type": "code",
   "execution_count": 13,
   "metadata": {},
   "outputs": [
    {
     "name": "stdout",
     "output_type": "stream",
     "text": [
      "enter number : 12321\n",
      "123 is palindrom\n"
     ]
    }
   ],
   "source": [
    "###3_13\n",
    "str = input(\"enter number : \")\n",
    "if str == str[::-1]:\n",
    "    print(f\"{n} is palindrom\")\n",
    "else:\n",
    "    print(f\"{n} is not palindrom\")"
   ]
  },
  {
   "cell_type": "markdown",
   "metadata": {},
   "source": [
    "### 01) WAP to check whether the given number is Armstrong or not."
   ]
  },
  {
   "cell_type": "code",
   "execution_count": 54,
   "metadata": {},
   "outputs": [
    {
     "name": "stdout",
     "output_type": "stream",
     "text": [
      "153 is an Armstrong number\n"
     ]
    }
   ],
   "source": [
    "num = input(\"Enter a number: \")\n",
    "\n",
    "sum = 0\n",
    "n1 = len(num)\n",
    "temp = int(num)\n",
    "while temp > 0:\n",
    "   digit = temp % 10\n",
    "   sum += digit ** n1\n",
    "   temp //= 10\n",
    "\n",
    "if int(num) == sum:\n",
    "   print(num,\"is an Armstrong number\")\n",
    "else:\n",
    "   print(num,\"is not an Armstrong number\")"
   ]
  },
  {
   "cell_type": "markdown",
   "metadata": {},
   "source": [
    "### 02) WAP to find out prime numbers between given two numbers."
   ]
  },
  {
   "cell_type": "code",
   "execution_count": 56,
   "metadata": {},
   "outputs": [
    {
     "name": "stdout",
     "output_type": "stream",
     "text": [
      "number 1 : 1\n",
      "number 2 : 50\n",
      "1\n",
      "2\n",
      "3\n",
      "5\n",
      "7\n",
      "11\n",
      "13\n",
      "17\n",
      "19\n",
      "23\n",
      "29\n",
      "31\n",
      "37\n",
      "41\n",
      "43\n",
      "47\n"
     ]
    }
   ],
   "source": [
    "start = int(input(\"enter start number : \"))\n",
    "end = int(input(\"enter end number : \"))\n",
    "\n",
    "print(f\"number 1 : {start}\")\n",
    "print(f\"number 2 : {end}\")\n",
    "for i in range(start,end):\n",
    "    for j in range(2,int(i/2)+1):\n",
    "        if i%j==0:\n",
    "            # print(f\"{i} is not prime number\")\n",
    "            break\n",
    "    else:\n",
    "        print(f\"{i}\")"
   ]
  },
  {
   "cell_type": "markdown",
   "metadata": {},
   "source": [
    "### 03) WAP to calculate x^y without using any function."
   ]
  },
  {
   "cell_type": "code",
   "execution_count": 5,
   "metadata": {},
   "outputs": [
    {
     "name": "stdout",
     "output_type": "stream",
     "text": [
      "5 ^ 3 =  125\n"
     ]
    }
   ],
   "source": [
    "n = int(input(\"enter number : \"))\n",
    "p = int(input(\"enter power : \"))\n",
    "ans=1\n",
    "for i in range(1,p+1):\n",
    "    ans = ans*n\n",
    "print(f\"{n} ^ {p} = \", ans)"
   ]
  },
  {
   "cell_type": "markdown",
   "metadata": {},
   "source": [
    "### 04) WAP to check whether the given number is perfect or not.\n",
    "[Sum of factors including 1 excluding number itself]"
   ]
  },
  {
   "cell_type": "code",
   "execution_count": 59,
   "metadata": {},
   "outputs": [
    {
     "name": "stdout",
     "output_type": "stream",
     "text": [
      "factors of 28 is :\n",
      "1\n",
      "2\n",
      "4\n",
      "7\n",
      "14\n",
      "28 is perfect number\n"
     ]
    }
   ],
   "source": [
    "n = int(input(\"enter number : \"))\n",
    "sum=0\n",
    "print(f\"factors of {n} is :\")\n",
    "for i in range(1,n+1):\n",
    "    if n%i==0:\n",
    "        if i==n:\n",
    "            break\n",
    "        else:\n",
    "            sum+=i\n",
    "            print(i)\n",
    "if sum==n:\n",
    "    print(f\"{n} is perfect number\")\n",
    "else:\n",
    "    print(f\"{n} is not perfect number\")"
   ]
  },
  {
   "cell_type": "markdown",
   "metadata": {},
   "source": [
    "### 05) WAP to find the sum of 1 + (1+2) + (1+2+3) + (1+2+3+4)+...+(1+2+3+4+....+n)"
   ]
  },
  {
   "cell_type": "code",
   "execution_count": 60,
   "metadata": {},
   "outputs": [
    {
     "name": "stdout",
     "output_type": "stream",
     "text": [
      "number  =  5\n",
      "sum =  35\n"
     ]
    }
   ],
   "source": [
    "n = int(input(\"enter number : \"))\n",
    "sum=0\n",
    "for i in range(1,n+1):\n",
    "    sum = sum + i*(i+1)//2\n",
    "print(\"number  = \",n)\n",
    "print(\"sum = \",sum)"
   ]
  },
  {
   "cell_type": "markdown",
   "metadata": {},
   "source": [
    "### 06) WAP to print Multiplication Table up to n"
   ]
  },
  {
   "cell_type": "code",
   "execution_count": 66,
   "metadata": {},
   "outputs": [
    {
     "name": "stdout",
     "output_type": "stream",
     "text": [
      "1 2 3 \n",
      "2 4 6 \n",
      "3 6 9 \n"
     ]
    }
   ],
   "source": [
    "n = int(input(\"enter number : \"))\n",
    "\n",
    "for i in range(1,n+1):\n",
    "    for j in range(1,n+1):    \n",
    "        print(f\"{i*j}\",end=\" \")\n",
    "    print()"
   ]
  }
 ],
 "metadata": {
  "kernelspec": {
   "display_name": "Python 3 (ipykernel)",
   "language": "python",
   "name": "python3"
  },
  "language_info": {
   "codemirror_mode": {
    "name": "ipython",
    "version": 3
   },
   "file_extension": ".py",
   "mimetype": "text/x-python",
   "name": "python",
   "nbconvert_exporter": "python",
   "pygments_lexer": "ipython3",
   "version": "3.11.5"
  }
 },
 "nbformat": 4,
 "nbformat_minor": 4
}
