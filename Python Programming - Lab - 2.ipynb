{
 "cells": [
  {
   "cell_type": "markdown",
   "metadata": {},
   "source": [
    "\n",
    "<a href='https://www.darshan.ac.in/'> <img src='https://www.darshan.ac.in/Content/media/DU_Logo.svg' width=\"250\" height=\"300\"/></a>\n",
    "<pre>\n",
    "<center><b><h1>Python Programming - 2101CS405</b></center>\n",
    "<center><b><h1>Lab - 2</b></center>    \n",
    "<pre>"
   ]
  },
  {
   "cell_type": "markdown",
   "metadata": {},
   "source": [
    "### kacha meet \n",
    "### 23010101624\n",
    "### 08/01/2024"
   ]
  },
  {
   "cell_type": "markdown",
   "metadata": {},
   "source": [
    "# if..else.."
   ]
  },
  {
   "cell_type": "markdown",
   "metadata": {},
   "source": [
    "### 01) WAP to check whether the given number is positive or negative."
   ]
  },
  {
   "cell_type": "code",
   "execution_count": 1,
   "metadata": {},
   "outputs": [
    {
     "name": "stdout",
     "output_type": "stream",
     "text": [
      "10 is positive number\n"
     ]
    }
   ],
   "source": [
    "n = int(input(\"enter number : \"))\n",
    "\n",
    "if(n>0):\n",
    "    print(f\"{n} is positive number\")\n",
    "else:\n",
    "    print(f\"{n} is negative number\")"
   ]
  },
  {
   "cell_type": "markdown",
   "metadata": {},
   "source": [
    "### 02) WAP to check whether the given number is odd or even"
   ]
  },
  {
   "cell_type": "code",
   "execution_count": 2,
   "metadata": {},
   "outputs": [
    {
     "name": "stdout",
     "output_type": "stream",
     "text": [
      "10 is even\n"
     ]
    }
   ],
   "source": [
    "n = int(input(\"enter number : \"))\n",
    "\n",
    "if(n%2==0):\n",
    "    print(f\"{n} is even\")\n",
    "else:\n",
    "    print(f\"{n} is odd\")"
   ]
  },
  {
   "cell_type": "markdown",
   "metadata": {},
   "source": [
    "### 03) WAP to find out largest number from given two numbers using simple if and ternary operator."
   ]
  },
  {
   "cell_type": "code",
   "execution_count": 3,
   "metadata": {},
   "outputs": [
    {
     "name": "stdout",
     "output_type": "stream",
     "text": [
      "20 is greater than 10\n"
     ]
    }
   ],
   "source": [
    "n1 = int(input(\"enter number 1 : \"))\n",
    "n2 = int(input(\"enter number 2 : \"))\n",
    "\n",
    "if n1>n2:\n",
    "    print(f\"{n1} is greater than {n2}\")\n",
    "else:\n",
    "    print(f\"{n2} is greater than {n1}\")"
   ]
  },
  {
   "cell_type": "markdown",
   "metadata": {},
   "source": [
    "### 04) WAP to find out largest number from given three numbers."
   ]
  },
  {
   "cell_type": "code",
   "execution_count": 6,
   "metadata": {},
   "outputs": [
    {
     "name": "stdout",
     "output_type": "stream",
     "text": [
      "30 is greater than 20 and 10\n"
     ]
    }
   ],
   "source": [
    "n1 = int(input(\"enter number 1 : \"))\n",
    "n2 = int(input(\"enter number 2 : \"))\n",
    "n3 = int(input(\"enter number 3 : \"))\n",
    "\n",
    "if n1>n2:\n",
    "    if n1>n3:\n",
    "        print(f\"{n1} is greater than {n2} and {n3}\")\n",
    "elif n2>n3:\n",
    "    print(f\"{n2} is greater than {n1} and {n3}\")\n",
    "else:\n",
    "    print(f\"{n3} is greater than {n1} and {n2}\")"
   ]
  },
  {
   "cell_type": "markdown",
   "metadata": {},
   "source": [
    "### 05) WAP to check whether the given year is leap year or not.\n",
    "[If a year can be divisible by 4 but not divisible by 100 then it is leap year but if it is divisible by 400 then it is leap year]"
   ]
  },
  {
   "cell_type": "code",
   "execution_count": 20,
   "metadata": {},
   "outputs": [
    {
     "name": "stdout",
     "output_type": "stream",
     "text": [
      "2020 is leap year\n"
     ]
    }
   ],
   "source": [
    "year = int(input(\"enter year : \"))\n",
    "\n",
    "if (year%4==0 and year%100!=0) or (year%400==0):\n",
    "    print(f\"{year} is leap year\")\n",
    "else:\n",
    "    print(f\"{year} is not leap year\")"
   ]
  },
  {
   "cell_type": "markdown",
   "metadata": {},
   "source": [
    "### 06) WAP in python to display the name of the day according to the number given by the user"
   ]
  },
  {
   "cell_type": "code",
   "execution_count": 7,
   "metadata": {},
   "outputs": [
    {
     "name": "stdout",
     "output_type": "stream",
     "text": [
      "Friday\n"
     ]
    }
   ],
   "source": [
    "day = int(input(\"enter number according to day : \"))\n",
    "\n",
    "if day==1:\n",
    "    print(\"Monday\")\n",
    "elif day==2:\n",
    "    print(\"Tuesday\")\n",
    "elif day==3:\n",
    "    print(\"Wednesday\")\n",
    "elif day==4:\n",
    "    print(\"Thursday\")\n",
    "elif day==5:\n",
    "    print(\"Friday\")\n",
    "elif day==6:\n",
    "    print(\"Saturday\")\n",
    "elif day==7:\n",
    "    print(\"Sunday\")\n",
    "else:\n",
    "    print(\"invaid number\")"
   ]
  },
  {
   "cell_type": "markdown",
   "metadata": {},
   "source": [
    "### 07) WAP to implement simple calculator which performs (add,sub,mul,div) of two no. based on user input."
   ]
  },
  {
   "cell_type": "code",
   "execution_count": 10,
   "metadata": {},
   "outputs": [
    {
     "name": "stdout",
     "output_type": "stream",
     "text": [
      "ans = 30\n"
     ]
    }
   ],
   "source": [
    "n1 = int(input(\"enter number 1 : \"))\n",
    "n2 = int(input(\"enter number 2 : \"))\n",
    "operator = input(\"enter +, -, *, / operator\")\n",
    "        \n",
    "if operator==\"+\":\n",
    "    ans = n1+n2\n",
    "elif operator==\"-\":\n",
    "    ans = n1-n2\n",
    "elif operator==\"*\":\n",
    "    ans = n1*n2\n",
    "elif operator==\"/\":\n",
    "    ans = n1/n2\n",
    "else:\n",
    "    print(\"invalid operator\")\n",
    "    \n",
    "print(f\"ans = {ans}\")"
   ]
  },
  {
   "cell_type": "markdown",
   "metadata": {},
   "source": [
    "### 08) WAP to calculate electricity bill based on following criteria. Which takes the unit from the user.\n",
    "a. First 1 to 50 units – Rs. 2.60/unit</br>\n",
    "b. Next 50 to 100 units – Rs. 3.25/unit</br>\n",
    "c. Next 100 to 200 units – Rs. 5.26/unit</br>\n",
    "d. above 200 units – Rs. 8.45/unit"
   ]
  },
  {
   "cell_type": "code",
   "execution_count": 19,
   "metadata": {},
   "outputs": [
    {
     "name": "stdout",
     "output_type": "stream",
     "text": [
      "bill = 1105.8\n"
     ]
    }
   ],
   "source": [
    "unit = int(input(\"enter unit : \"))\n",
    "bill=0\n",
    "\n",
    "if unit<=50:\n",
    "    bill += unit*2.60\n",
    "elif unit<=100:\n",
    "    bill += 50*2.60\n",
    "    bill += (unit - 50) * 3.25\n",
    "elif unit<=200:\n",
    "    bill += 50 * 2.60\n",
    "    bill += 50 * 3.25\n",
    "    bill += (unit - 100) * 5.26\n",
    "    \n",
    "else:\n",
    "   bill += 50 * 2.60\n",
    "   bill += 50 * 3.25\n",
    "   bill += 100 * 5.26\n",
    "   bill += (unit - 200) * 8.45\n",
    "\n",
    "print(f\"bill = {bill}\")"
   ]
  },
  {
   "cell_type": "markdown",
   "metadata": {},
   "source": [
    "### 01) WAP to read marks of five subjects. Calculate percentage and print class accordingly. \n",
    "Fail below 35 </br>\n",
    "Pass Class between 35 to 45 </br>\n",
    "Second Class</br>\n",
    "between 45 to 60</br>\n",
    "First Class between 60 to 70</br> \n",
    "Distinction if more than 70"
   ]
  },
  {
   "cell_type": "code",
   "execution_count": 7,
   "metadata": {},
   "outputs": [
    {
     "name": "stdout",
     "output_type": "stream",
     "text": [
      "percentage = 50.0\n",
      "Second class\n"
     ]
    }
   ],
   "source": [
    "s1 = int(input(\"enter subject 1 : \"))\n",
    "s2 = int(input(\"enter subject 2 : \"))\n",
    "s3 = int(input(\"enter subject 3 : \"))\n",
    "s4 = int(input(\"enter subject 4 : \"))\n",
    "s5 = int(input(\"enter subject 5 : \"))\n",
    "\n",
    "per = (s1+s2+s3+s4+s5)/5\n",
    "\n",
    "print(f\"percentage = {per}\")\n",
    "\n",
    "if per>=70:\n",
    "    print(\"Distinction\")\n",
    "elif per>=60 and per<70:\n",
    "    print(\"First class\")\n",
    "elif per>=45 and per<60:\n",
    "    print(\"Second class\")\n",
    "elif per>=35 and per<45:\n",
    "    print(\"Pass\")\n",
    "elif per<35:\n",
    "    print(\"Fail\")"
   ]
  },
  {
   "cell_type": "markdown",
   "metadata": {},
   "source": [
    "### 02) WAP to find out the Maximum and Minimum number from given 4 numbers."
   ]
  },
  {
   "cell_type": "code",
   "execution_count": 3,
   "metadata": {},
   "outputs": [
    {
     "name": "stdout",
     "output_type": "stream",
     "text": [
      "40 is greater than 10 20 30\n"
     ]
    }
   ],
   "source": [
    "n1 = int(input(\"enter number 1 : \"))\n",
    "n2 = int(input(\"enter number 2 : \"))\n",
    "n4 = int(input(\"enter number 4 : \"))\n",
    "n3 = int(input(\"enter number 3 : \"))\n",
    "\n",
    "if n1>n2 and n1>n3 and n1>n4:\n",
    "    print(f\"{n1} is greater than {n2} {n3} {n4}\")\n",
    "elif n2>n1 and n2>n3 and n2>n4:\n",
    "    print(f\"{n2} is greater than {n1} {n3} {n4}\")\n",
    "elif n3>n1 and n3>n2 and n3>n4:\n",
    "    print(f\"{n3} is greater than {n1} {n2} {n4}\")\n",
    "else:\n",
    "    print(f\"{n4} is greater than {n1} {n2} {n3}\")"
   ]
  },
  {
   "cell_type": "markdown",
   "metadata": {},
   "source": [
    "### 03) WAP to input an integer number and check the last digit of number is even or odd."
   ]
  },
  {
   "cell_type": "code",
   "execution_count": 2,
   "metadata": {},
   "outputs": [
    {
     "name": "stdout",
     "output_type": "stream",
     "text": [
      "2 last digit of 102 is even\n"
     ]
    }
   ],
   "source": [
    "n = int(input(\"enter number : \"))\n",
    "\n",
    "temp = n%10\n",
    "\n",
    "if temp%2==0:\n",
    "    print(f\"{temp} last digit of {n} is even\")\n",
    "else:\n",
    "    print(f\"{temp} last digit of {n} is odd\")"
   ]
  },
  {
   "cell_type": "markdown",
   "metadata": {},
   "source": [
    "### 04) WAP to determine the roots of the equation ax2+bx+c=0."
   ]
  },
  {
   "cell_type": "code",
   "execution_count": 17,
   "metadata": {},
   "outputs": [
    {
     "name": "stdout",
     "output_type": "stream",
     "text": [
      "D is real and different\n",
      "x1 = (4+0j)\n",
      "x2 = (3+0j)\n"
     ]
    }
   ],
   "source": [
    "from cmath import sqrt\n",
    "\n",
    "\n",
    "a = int(input(\"enter number 1 : \"))\n",
    "b = int(input(\"enter number 2 : \"))\n",
    "c = int(input(\"enter number 3 : \"))\n",
    "\n",
    "d = b**2-4*a*c\n",
    "\n",
    "if d>0:\n",
    "    print(\"D is real and different\")\n",
    "elif d==0:\n",
    "    print(\"D is same\")\n",
    "elif d<0:\n",
    "    print(\"D is imagenary and different\")\n",
    "\n",
    "x1=(-b+sqrt(d))/2*a\n",
    "x2=(-b-sqrt(d))/2*a\n",
    "\n",
    "print(f\"x1 = {x1}\")\n",
    "print(f\"x2 = {x2}\")\n"
   ]
  }
 ],
 "metadata": {
  "kernelspec": {
   "display_name": "Python 3 (ipykernel)",
   "language": "python",
   "name": "python3"
  },
  "language_info": {
   "codemirror_mode": {
    "name": "ipython",
    "version": 3
   },
   "file_extension": ".py",
   "mimetype": "text/x-python",
   "name": "python",
   "nbconvert_exporter": "python",
   "pygments_lexer": "ipython3",
   "version": "3.11.5"
  }
 },
 "nbformat": 4,
 "nbformat_minor": 4
}
