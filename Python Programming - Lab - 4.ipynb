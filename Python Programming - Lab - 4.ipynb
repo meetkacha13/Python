{
 "cells": [
  {
   "cell_type": "markdown",
   "metadata": {},
   "source": [
    "\n",
    "<a href='https://www.darshan.ac.in/'> <img src='https://www.darshan.ac.in/Content/media/DU_Logo.svg' width=\"250\" height=\"300\"/></a>\n",
    "<pre>\n",
    "<center><b><h1>Python Programming - 2101CS405</b></center>\n",
    "<center><b><h1>Lab - 4</b></center>    \n",
    "<pre>"
   ]
  },
  {
   "cell_type": "markdown",
   "metadata": {},
   "source": [
    "### kacha meet\n",
    "### 23010101624\n",
    "### 23/01/2024"
   ]
  },
  {
   "cell_type": "markdown",
   "metadata": {},
   "source": [
    "# String"
   ]
  },
  {
   "cell_type": "markdown",
   "metadata": {},
   "source": [
    "### 01) WAP to check given string is palindrome or not."
   ]
  },
  {
   "cell_type": "code",
   "execution_count": 12,
   "metadata": {},
   "outputs": [
    {
     "name": "stdout",
     "output_type": "stream",
     "text": [
      " meet is not a palindrome.\n"
     ]
    }
   ],
   "source": [
    "str = input(\"enter string : \")\n",
    "str = str.lower()\n",
    "\n",
    "if str == str[::-1]:\n",
    "    print(f\"{str} is a palindrome.\")\n",
    "else:\n",
    "    print(f\"{str} is not a palindrome.\")"
   ]
  },
  {
   "cell_type": "markdown",
   "metadata": {},
   "source": [
    "### 02) WAP to reverse the words in given string."
   ]
  },
  {
   "cell_type": "code",
   "execution_count": 19,
   "metadata": {},
   "outputs": [
    {
     "name": "stdout",
     "output_type": "stream",
     "text": [
      "original string : hello world bye\n",
      "reversed words = bye world hello\n"
     ]
    }
   ],
   "source": [
    "str = input(\"enter string : \")\n",
    "print(f\"original string : {str}\")\n",
    "\n",
    "s = str.split()[::-1]\n",
    "l = []\n",
    "\n",
    "for i in s:\n",
    "    l.append(i)\n",
    "\n",
    "rev = \" \".join(l)\n",
    "print(f\"reversed words : {rev}\")"
   ]
  },
  {
   "cell_type": "markdown",
   "metadata": {},
   "source": [
    "### 03) WAP to remove ith character from given string"
   ]
  },
  {
   "cell_type": "code",
   "execution_count": 33,
   "metadata": {},
   "outputs": [
    {
     "name": "stdout",
     "output_type": "stream",
     "text": [
      "String after removing 1 th character : met\n"
     ]
    }
   ],
   "source": [
    "s = input(\"enter string : \")\n",
    "i = int(input(\"Enter the index of character to be removed : \"))\n",
    "\n",
    "new = str[:i] + str[i+1:]\n",
    "\n",
    "print(f\"String after removing {i} th character : {new}\")"
   ]
  },
  {
   "cell_type": "markdown",
   "metadata": {},
   "source": [
    "### 04) WAP to find length of String without using len function."
   ]
  },
  {
   "cell_type": "code",
   "execution_count": 42,
   "metadata": {},
   "outputs": [
    {
     "name": "stdout",
     "output_type": "stream",
     "text": [
      "count = 5\n"
     ]
    }
   ],
   "source": [
    "str = input(\"enter string : \")\n",
    "count = 0\n",
    "\n",
    "for i in str:\n",
    "    count = count+1\n",
    "print(f\"count = {count}\")"
   ]
  },
  {
   "cell_type": "markdown",
   "metadata": {},
   "source": [
    "### 05) WAP to print even length word in string."
   ]
  },
  {
   "cell_type": "code",
   "execution_count": 53,
   "metadata": {},
   "outputs": [
    {
     "name": "stdout",
     "output_type": "stream",
     "text": [
      "meet\n"
     ]
    }
   ],
   "source": [
    "str = input(\"enter string : \")\n",
    "s = str.split(\" \")\n",
    "for i in s:\n",
    "    if len(i)%2==0:\n",
    "        print(i)"
   ]
  },
  {
   "cell_type": "markdown",
   "metadata": {},
   "source": [
    "### 06) WAP to count numbers of vowels in given string."
   ]
  },
  {
   "cell_type": "code",
   "execution_count": 56,
   "metadata": {},
   "outputs": [
    {
     "name": "stdout",
     "output_type": "stream",
     "text": [
      "no of vowel in meet = 2\n"
     ]
    }
   ],
   "source": [
    "# WAP to count numbers of vowels in given string.\n",
    "str = input(\"enter string : \")\n",
    "no = 0\n",
    "vowel = ['a', 'e', 'i', 'o', 'u']\n",
    "for i in str:\n",
    "    if i.lower() in vowel:\n",
    "        no = no+1\n",
    "\n",
    "print(f\"no of vowel in {str} = {no}\")"
   ]
  },
  {
   "cell_type": "markdown",
   "metadata": {},
   "source": [
    "### 07) WAP to convert given array to string."
   ]
  },
  {
   "cell_type": "code",
   "execution_count": 1,
   "metadata": {},
   "outputs": [
    {
     "name": "stdout",
     "output_type": "stream",
     "text": [
      "12345\n"
     ]
    }
   ],
   "source": [
    "array=[1,2,3,4,5]\n",
    "string=''.join(map(str,array))\n",
    "print(string)"
   ]
  },
  {
   "cell_type": "markdown",
   "metadata": {},
   "source": [
    "### 01) WAP to find out duplicate characters in given string."
   ]
  },
  {
   "cell_type": "code",
   "execution_count": 6,
   "metadata": {},
   "outputs": [
    {
     "name": "stdout",
     "output_type": "stream",
     "text": [
      "Duplicate characters in the string: e\n"
     ]
    }
   ],
   "source": [
    "string = input(\"Enter a string: \")\n",
    "duplicates = []\n",
    "for char in string:\n",
    " if string.count(char) > 1 and char not in duplicates:\n",
    "    duplicates.append(char)\n",
    "print(\"Duplicate characters in the string:\", *duplicates)"
   ]
  },
  {
   "cell_type": "markdown",
   "metadata": {},
   "source": [
    "### 02) WAP to capitalize the first and last character of each word in a string."
   ]
  },
  {
   "cell_type": "code",
   "execution_count": 7,
   "metadata": {},
   "outputs": [
    {
     "name": "stdout",
     "output_type": "stream",
     "text": [
      "MeeT\n"
     ]
    }
   ],
   "source": [
    "string = input(\"Enter a string: \")\n",
    "new_string = \"\"\n",
    "for word in string.split():\n",
    " new_word = word[0].upper() + word[1:-1] + word[-1].upper()\n",
    " new_string += new_word + \" \"\n",
    "print(new_string.strip())"
   ]
  },
  {
   "cell_type": "markdown",
   "metadata": {},
   "source": [
    "### 03) WAP to find Maximum frequency character in String."
   ]
  },
  {
   "cell_type": "code",
   "execution_count": 11,
   "metadata": {},
   "outputs": [
    {
     "name": "stdout",
     "output_type": "stream",
     "text": [
      "The maximum occurring character is 'e' with a frequency of 2.\n"
     ]
    }
   ],
   "source": [
    "string = input(\"Enter a string: \")\n",
    "freq = {}\n",
    "for char in string:\n",
    " if char in freq:\n",
    "    freq[char] += 1\n",
    " else:\n",
    "    freq[char] = 1\n",
    "max_count = 0\n",
    "for char, count in freq.items():\n",
    " if count > max_count:\n",
    "    max_char = char\n",
    "    max_count = count\n",
    "print(f\"The maximum occurring character is '{max_char}' with a frequency of {max_count}.\")"
   ]
  },
  {
   "cell_type": "markdown",
   "metadata": {},
   "source": [
    "### 04) WAP to find Minimum frequency character in String."
   ]
  },
  {
   "cell_type": "code",
   "execution_count": 12,
   "metadata": {},
   "outputs": [
    {
     "name": "stdout",
     "output_type": "stream",
     "text": [
      "The minimum occurring character is 'm' with a frequency of  1.\n"
     ]
    }
   ],
   "source": [
    "string = input(\"Enter a string: \")\n",
    "freq = {}\n",
    "for char in string:\n",
    " if char in freq:\n",
    "    freq[char] += 1\n",
    " else:\n",
    "    freq[char] = 1\n",
    "min_count = float('inf')\n",
    "for char, count in freq.items():\n",
    " if count < min_count:\n",
    "    min_char = char\n",
    "    min_count = count\n",
    "print(f\"The minimum occurring character is '{min_char}' with a frequency of  {min_count}.\")"
   ]
  },
  {
   "cell_type": "markdown",
   "metadata": {},
   "source": [
    "### 05) WAP to check if a given string is binary string or not"
   ]
  },
  {
   "cell_type": "code",
   "execution_count": 13,
   "metadata": {},
   "outputs": [
    {
     "name": "stdout",
     "output_type": "stream",
     "text": [
      "'10101001' is a binary string.\n"
     ]
    }
   ],
   "source": [
    "string = input(\"Enter a string: \")\n",
    "is_binary = True\n",
    "for char in string:\n",
    " if char != '0' and char != '1':\n",
    "    is_binary = False\n",
    " break\n",
    "if is_binary:\n",
    " print(f\"'{string}' is a binary string.\")\n",
    "else:\n",
    " print(f\"'{string}' is not a binary string.\")"
   ]
  }
 ],
 "metadata": {
  "kernelspec": {
   "display_name": "Python 3 (ipykernel)",
   "language": "python",
   "name": "python3"
  },
  "language_info": {
   "codemirror_mode": {
    "name": "ipython",
    "version": 3
   },
   "file_extension": ".py",
   "mimetype": "text/x-python",
   "name": "python",
   "nbconvert_exporter": "python",
   "pygments_lexer": "ipython3",
   "version": "3.12.1"
  },
  "vscode": {
   "interpreter": {
    "hash": "31f2aee4e71d21fbe5cf8b01ff0e069b9275f58929596ceb00d14d90e3e16cd6"
   }
  }
 },
 "nbformat": 4,
 "nbformat_minor": 4
}
