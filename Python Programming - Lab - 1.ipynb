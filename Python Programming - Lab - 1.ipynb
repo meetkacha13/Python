{
 "cells": [
  {
   "cell_type": "markdown",
   "metadata": {},
   "source": [
    "<a href='https://www.darshan.ac.in/'> <img src='https://www.darshan.ac.in/Content/media/DU_Logo.svg' width=\"250\" height=\"300\"/></a>\n",
    "<pre>\n",
    "<center><b><h1>Python Programming - 2101CS405</b></center>\n",
    "<center><b><h1>Lab - 1</b></center>    \n",
    "<pre>"
   ]
  },
  {
   "cell_type": "markdown",
   "metadata": {},
   "source": [
    "### kacha meet\n",
    "### 23010101624\n",
    "### 02/01/2024"
   ]
  },
  {
   "cell_type": "markdown",
   "metadata": {},
   "source": [
    "### 01) WAP to print “Hello World”"
   ]
  },
  {
   "cell_type": "code",
   "execution_count": 1,
   "metadata": {},
   "outputs": [
    {
     "name": "stdout",
     "output_type": "stream",
     "text": [
      "hello World..!!\n"
     ]
    }
   ],
   "source": [
    "print(\"hello World..!!\")"
   ]
  },
  {
   "cell_type": "markdown",
   "metadata": {},
   "source": [
    "### 02) WAP to print your address i) using single print ii) using multiple print"
   ]
  },
  {
   "cell_type": "code",
   "execution_count": 3,
   "metadata": {},
   "outputs": [
    {
     "name": "stdout",
     "output_type": "stream",
     "text": [
      "--using one string--\n",
      "akshar , sitaram society, street no2, kothariya solvent,\n",
      " rajkot:360022\n",
      "--using multiple string--\n",
      "akshar, street no2\n",
      "sitaram society, kothariya solvent\n",
      "rajkot,360022\n"
     ]
    }
   ],
   "source": [
    "print(\"--using one string--\")\n",
    "print(\"akshar , sitaram society, street no2, kothariya solvent,\\n rajkot:360022\")\n",
    "print(\"--using multiple string--\")\n",
    "print(\"akshar, street no2\")\n",
    "print(\"sitaram society, kothariya solvent\")\n",
    "print(\"rajkot,360022\")"
   ]
  },
  {
   "cell_type": "markdown",
   "metadata": {},
   "source": [
    "### 03) WAP to print addition of 2 numbers (without input function)"
   ]
  },
  {
   "cell_type": "code",
   "execution_count": 4,
   "metadata": {},
   "outputs": [
    {
     "name": "stdout",
     "output_type": "stream",
     "text": [
      "Addition is =  30\n"
     ]
    }
   ],
   "source": [
    "a=10;\n",
    "b=20;\n",
    "\n",
    "print(\"Addition is = \", a+b)"
   ]
  },
  {
   "cell_type": "markdown",
   "metadata": {},
   "source": [
    "### 04) WAP to calculate and print average of 2 numbers (without input function)"
   ]
  },
  {
   "cell_type": "code",
   "execution_count": 6,
   "metadata": {},
   "outputs": [
    {
     "name": "stdout",
     "output_type": "stream",
     "text": [
      "Average =  30.0\n"
     ]
    }
   ],
   "source": [
    "a=20\n",
    "b=40\n",
    "\n",
    "print(\"Average = \",(a+b)/2)"
   ]
  },
  {
   "cell_type": "markdown",
   "metadata": {},
   "source": [
    "### 05) WAP to add two number entered by user."
   ]
  },
  {
   "cell_type": "code",
   "execution_count": 8,
   "metadata": {},
   "outputs": [
    {
     "name": "stdout",
     "output_type": "stream",
     "text": [
      "Addition :  30\n"
     ]
    }
   ],
   "source": [
    "no1 = int(input(\"enter no 1 : \"))\n",
    "no2 = int(input(\"enter no 2 : \"))\n",
    "print(\"Addition : \",no1+no2)"
   ]
  },
  {
   "cell_type": "markdown",
   "metadata": {},
   "source": [
    "### 06) WAP to calculate simple interest."
   ]
  },
  {
   "cell_type": "code",
   "execution_count": 11,
   "metadata": {},
   "outputs": [
    {
     "name": "stdout",
     "output_type": "stream",
     "text": [
      "Intrest is :  700.0\n"
     ]
    }
   ],
   "source": [
    "p= int(input(\"enter Principle :\"))\n",
    "r= int(input(\"enter Rate of intrest :\"))\n",
    "n= int(input(\"enter Number of year :\"))\n",
    "\n",
    "print(\"Intrest is : \", (p*r*n/100))"
   ]
  },
  {
   "cell_type": "markdown",
   "metadata": {},
   "source": [
    "### 07) WAP Calculate Area and Circumfrence of Circle"
   ]
  },
  {
   "cell_type": "code",
   "execution_count": 12,
   "metadata": {},
   "outputs": [
    {
     "name": "stdout",
     "output_type": "stream",
     "text": [
      "Area of circle :  314.0\n",
      "circumfrence of circle :  62.800000000000004\n"
     ]
    }
   ],
   "source": [
    "r = int(input(\"enter Radius : \"))\n",
    "pi=3.14\n",
    "\n",
    "print(\"Area of circle : \",pi*r*r)\n",
    "print(\"circumfrence of circle : \",(2*pi*r))"
   ]
  },
  {
   "cell_type": "markdown",
   "metadata": {},
   "source": [
    "### 08) WAP to print Multiplication table of given number without using loops."
   ]
  },
  {
   "cell_type": "code",
   "execution_count": 15,
   "metadata": {},
   "outputs": [
    {
     "name": "stdout",
     "output_type": "stream",
     "text": [
      "2*1 = 2\n",
      "2*2 = 4\n",
      "2*3 = 6\n",
      "2*4 = 8\n",
      "2*5 = 10\n",
      "2*6 = 12\n",
      "2*7 = 14\n",
      "2*8 = 16\n",
      "2*9 = 18\n",
      "2*10 = 20\n"
     ]
    }
   ],
   "source": [
    "print(f\"2*1 = {2*1}\")\n",
    "print(f\"2*2 = {2*2}\")\n",
    "print(f\"2*3 = {2*3}\")\n",
    "print(f\"2*4 = {2*4}\")\n",
    "print(f\"2*5 = {2*5}\")\n",
    "print(f\"2*6 = {2*6}\")\n",
    "print(f\"2*7 = {2*7}\")\n",
    "print(f\"2*8 = {2*8}\")\n",
    "print(f\"2*9 = {2*9}\")\n",
    "print(f\"2*10 = {2*10}\")"
   ]
  },
  {
   "cell_type": "markdown",
   "metadata": {},
   "source": [
    "### 09) WAP to calculate Area of Triangle (hint: a = h * b * 0.5)"
   ]
  },
  {
   "cell_type": "code",
   "execution_count": 16,
   "metadata": {},
   "outputs": [
    {
     "name": "stdout",
     "output_type": "stream",
     "text": [
      "Area of Triangle = 10.0\n"
     ]
    }
   ],
   "source": [
    "h = int(input(\"enter h : \"))\n",
    "b = int(input(\"enter b : \"))\n",
    "\n",
    "print(f\"Area of Triangle = {h*b*0.5}\")"
   ]
  },
  {
   "cell_type": "markdown",
   "metadata": {},
   "source": [
    "### 10) WAP to convert degree to Fahrenheit and vice versa."
   ]
  },
  {
   "cell_type": "code",
   "execution_count": 17,
   "metadata": {},
   "outputs": [
    {
     "name": "stdout",
     "output_type": "stream",
     "text": [
      "fehrenheit = 75.2\n",
      "celsius = -12.222222222222221\n"
     ]
    }
   ],
   "source": [
    "c = int(input(\"enter celsius : \"))\n",
    "f = int(input(\"enter fahrenheit : \"))\n",
    "\n",
    "print(f\"fehrenheit = { (c * 9/5) + 32}\")\n",
    "print(f\"celsius = {(f - 32) * 5/9}\")"
   ]
  },
  {
   "cell_type": "markdown",
   "metadata": {},
   "source": [
    "### 11) WAP to calculate total marks and Percentage."
   ]
  },
  {
   "cell_type": "code",
   "execution_count": 19,
   "metadata": {},
   "outputs": [
    {
     "name": "stdout",
     "output_type": "stream",
     "text": [
      "total marks = 150\n",
      "Average = 50.0\n",
      "Percentage = 50.0\n"
     ]
    }
   ],
   "source": [
    "s1 = int(input(\"enter marks 1 :\"))\n",
    "s2 = int(input(\"enter marks 2 :\"))\n",
    "s3 = int(input(\"enter marks 3 :\"))\n",
    "total = s1+s2+s3;\n",
    "print(f\"total marks = {total}\")\n",
    "print(f\"Average = {(total)/3}\")\n",
    "print(f\"Percentage = {(total/300)*100}\")"
   ]
  },
  {
   "cell_type": "markdown",
   "metadata": {},
   "source": [
    "### 12) Compute distance between two points taking input from the user (Pythagorean Theorem)."
   ]
  },
  {
   "cell_type": "code",
   "execution_count": 21,
   "metadata": {},
   "outputs": [
    {
     "name": "stdout",
     "output_type": "stream",
     "text": [
      "distance = 25.45584412271571\n"
     ]
    }
   ],
   "source": [
    "x1 = int(input(\"enter x1 : \"))\n",
    "y1 = int(input(\"enter y1 : \"))\n",
    "\n",
    "x2 = int(input(\"enter x2 : \"))\n",
    "y2 = int(input(\"enter y2 : \"))\n",
    "\n",
    "print(f\"distance = {((x2 - x1)**2 +(y2 - y1)**2)**0.5}\")"
   ]
  },
  {
   "cell_type": "markdown",
   "metadata": {},
   "source": [
    "### 13) WAP to convert seconds into hours, minutes & seconds and print in HH:MM:SS\n",
    "[e.g. 10000 seconds mean 2:46:40 (2 Hours, 46 Minutes, 40Seconds)]"
   ]
  },
  {
   "cell_type": "code",
   "execution_count": 23,
   "metadata": {},
   "outputs": [
    {
     "name": "stdout",
     "output_type": "stream",
     "text": [
      "H:M:S = 2:46:40\n"
     ]
    }
   ],
   "source": [
    "sec = int(input(\"enter seconds : \"))\n",
    "\n",
    "h = sec//3600\n",
    "sec %= 3600\n",
    "\n",
    "m = sec // 60\n",
    "sec %= 60\n",
    "\n",
    "\n",
    "print(f\"H:M:S = {h}:{m}:{sec}\")"
   ]
  },
  {
   "cell_type": "markdown",
   "metadata": {},
   "source": [
    "### 14) WAP to enter distance into kilometer and convert it into meter, feet,inches, and centimeter"
   ]
  },
  {
   "cell_type": "code",
   "execution_count": 34,
   "metadata": {},
   "outputs": [
    {
     "name": "stdout",
     "output_type": "stream",
     "text": [
      "meter = 1000\n",
      "feet = 3280\n",
      "inches = 39360.0\n"
     ]
    }
   ],
   "source": [
    "\n",
    "km = int(input(\"enter kilometer = \"))\n",
    "m=km*1000\n",
    "print(f\"meter = {m}\")\n",
    "print(f\"feet = {int(m*3.28)}\")\n",
    "print(f\"inches = {m*39.36}\")"
   ]
  }
 ],
 "metadata": {
  "kernelspec": {
   "display_name": "Python 3 (ipykernel)",
   "language": "python",
   "name": "python3"
  },
  "language_info": {
   "codemirror_mode": {
    "name": "ipython",
    "version": 3
   },
   "file_extension": ".py",
   "mimetype": "text/x-python",
   "name": "python",
   "nbconvert_exporter": "python",
   "pygments_lexer": "ipython3",
   "version": "3.11.5"
  },
  "vscode": {
   "interpreter": {
    "hash": "31f2aee4e71d21fbe5cf8b01ff0e069b9275f58929596ceb00d14d90e3e16cd6"
   }
  }
 },
 "nbformat": 4,
 "nbformat_minor": 4
}
